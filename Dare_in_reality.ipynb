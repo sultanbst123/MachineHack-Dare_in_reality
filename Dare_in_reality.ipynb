{
  "nbformat": 4,
  "nbformat_minor": 0,
  "metadata": {
    "colab": {
      "name": "Dare_in_reality.ipynb",
      "provenance": [],
      "collapsed_sections": [
        "x8Vj2x77LEsR",
        "tUXMhUuSLIUS",
        "A7BDR9e5OIVO",
        "ZXtv8QluiAr7",
        "y1vLpE-kk2Sd",
        "H0_F5zsDk5rz",
        "KoRyANCfpDSO",
        "7tvDo_CFrRBM",
        "tenvicuirUOQ",
        "4jWKcm7er-R8"
      ],
      "mount_file_id": "1eQ2Wae6tAxIicZZavRm5wg2VPpM_L4Rv",
      "authorship_tag": "ABX9TyOa7BVD0CPbruweRnEy76kx",
      "include_colab_link": true
    },
    "kernelspec": {
      "name": "python3",
      "display_name": "Python 3"
    },
    "language_info": {
      "name": "python"
    },
    "widgets": {
      "application/vnd.jupyter.widget-state+json": {
        "795a6e652d484ced94c63e0308ec6d77": {
          "model_module": "@jupyter-widgets/controls",
          "model_name": "HBoxModel",
          "model_module_version": "1.5.0",
          "state": {
            "_view_name": "HBoxView",
            "_dom_classes": [],
            "_model_name": "HBoxModel",
            "_view_module": "@jupyter-widgets/controls",
            "_model_module_version": "1.5.0",
            "_view_count": null,
            "_view_module_version": "1.5.0",
            "box_style": "",
            "layout": "IPY_MODEL_3d961f8250e24652af0701cc07ce1206",
            "_model_module": "@jupyter-widgets/controls",
            "children": [
              "IPY_MODEL_6c89ad2056154dcf89e06235e22eb1b2",
              "IPY_MODEL_8d212d9a223444999d46b75d2f5a3f5e",
              "IPY_MODEL_a595370f40844064a5c00a0cb3cc89a3"
            ]
          }
        },
        "3d961f8250e24652af0701cc07ce1206": {
          "model_module": "@jupyter-widgets/base",
          "model_name": "LayoutModel",
          "model_module_version": "1.2.0",
          "state": {
            "_view_name": "LayoutView",
            "grid_template_rows": null,
            "right": null,
            "justify_content": null,
            "_view_module": "@jupyter-widgets/base",
            "overflow": null,
            "_model_module_version": "1.2.0",
            "_view_count": null,
            "flex_flow": null,
            "width": null,
            "min_width": null,
            "border": null,
            "align_items": null,
            "bottom": null,
            "_model_module": "@jupyter-widgets/base",
            "top": null,
            "grid_column": null,
            "overflow_y": null,
            "overflow_x": null,
            "grid_auto_flow": null,
            "grid_area": null,
            "grid_template_columns": null,
            "flex": null,
            "_model_name": "LayoutModel",
            "justify_items": null,
            "grid_row": null,
            "max_height": null,
            "align_content": null,
            "visibility": null,
            "align_self": null,
            "height": null,
            "min_height": null,
            "padding": null,
            "grid_auto_rows": null,
            "grid_gap": null,
            "max_width": null,
            "order": null,
            "_view_module_version": "1.2.0",
            "grid_template_areas": null,
            "object_position": null,
            "object_fit": null,
            "grid_auto_columns": null,
            "margin": null,
            "display": null,
            "left": null
          }
        },
        "6c89ad2056154dcf89e06235e22eb1b2": {
          "model_module": "@jupyter-widgets/controls",
          "model_name": "HTMLModel",
          "model_module_version": "1.5.0",
          "state": {
            "_view_name": "HTMLView",
            "style": "IPY_MODEL_ee25230dddaa4aa598e78b0321358ccd",
            "_dom_classes": [],
            "description": "",
            "_model_name": "HTMLModel",
            "placeholder": "​",
            "_view_module": "@jupyter-widgets/controls",
            "_model_module_version": "1.5.0",
            "value": "100%",
            "_view_count": null,
            "_view_module_version": "1.5.0",
            "description_tooltip": null,
            "_model_module": "@jupyter-widgets/controls",
            "layout": "IPY_MODEL_aba917a0c6d843bdbed4524d3ace6738"
          }
        },
        "8d212d9a223444999d46b75d2f5a3f5e": {
          "model_module": "@jupyter-widgets/controls",
          "model_name": "FloatProgressModel",
          "model_module_version": "1.5.0",
          "state": {
            "_view_name": "ProgressView",
            "style": "IPY_MODEL_463e512f405942ce9780bec96184a016",
            "_dom_classes": [],
            "description": "",
            "_model_name": "FloatProgressModel",
            "bar_style": "success",
            "max": 10,
            "_view_module": "@jupyter-widgets/controls",
            "_model_module_version": "1.5.0",
            "value": 10,
            "_view_count": null,
            "_view_module_version": "1.5.0",
            "orientation": "horizontal",
            "min": 0,
            "description_tooltip": null,
            "_model_module": "@jupyter-widgets/controls",
            "layout": "IPY_MODEL_b213eec67ec04edd9c3895ac746d6bd7"
          }
        },
        "a595370f40844064a5c00a0cb3cc89a3": {
          "model_module": "@jupyter-widgets/controls",
          "model_name": "HTMLModel",
          "model_module_version": "1.5.0",
          "state": {
            "_view_name": "HTMLView",
            "style": "IPY_MODEL_68cb4f2e1bef4a6c9050132bb741e67c",
            "_dom_classes": [],
            "description": "",
            "_model_name": "HTMLModel",
            "placeholder": "​",
            "_view_module": "@jupyter-widgets/controls",
            "_model_module_version": "1.5.0",
            "value": " 10/10 [01:18&lt;00:00,  6.84s/it]",
            "_view_count": null,
            "_view_module_version": "1.5.0",
            "description_tooltip": null,
            "_model_module": "@jupyter-widgets/controls",
            "layout": "IPY_MODEL_3c577006dcde49ea9272be18df5e4605"
          }
        },
        "ee25230dddaa4aa598e78b0321358ccd": {
          "model_module": "@jupyter-widgets/controls",
          "model_name": "DescriptionStyleModel",
          "model_module_version": "1.5.0",
          "state": {
            "_view_name": "StyleView",
            "_model_name": "DescriptionStyleModel",
            "description_width": "",
            "_view_module": "@jupyter-widgets/base",
            "_model_module_version": "1.5.0",
            "_view_count": null,
            "_view_module_version": "1.2.0",
            "_model_module": "@jupyter-widgets/controls"
          }
        },
        "aba917a0c6d843bdbed4524d3ace6738": {
          "model_module": "@jupyter-widgets/base",
          "model_name": "LayoutModel",
          "model_module_version": "1.2.0",
          "state": {
            "_view_name": "LayoutView",
            "grid_template_rows": null,
            "right": null,
            "justify_content": null,
            "_view_module": "@jupyter-widgets/base",
            "overflow": null,
            "_model_module_version": "1.2.0",
            "_view_count": null,
            "flex_flow": null,
            "width": null,
            "min_width": null,
            "border": null,
            "align_items": null,
            "bottom": null,
            "_model_module": "@jupyter-widgets/base",
            "top": null,
            "grid_column": null,
            "overflow_y": null,
            "overflow_x": null,
            "grid_auto_flow": null,
            "grid_area": null,
            "grid_template_columns": null,
            "flex": null,
            "_model_name": "LayoutModel",
            "justify_items": null,
            "grid_row": null,
            "max_height": null,
            "align_content": null,
            "visibility": null,
            "align_self": null,
            "height": null,
            "min_height": null,
            "padding": null,
            "grid_auto_rows": null,
            "grid_gap": null,
            "max_width": null,
            "order": null,
            "_view_module_version": "1.2.0",
            "grid_template_areas": null,
            "object_position": null,
            "object_fit": null,
            "grid_auto_columns": null,
            "margin": null,
            "display": null,
            "left": null
          }
        },
        "463e512f405942ce9780bec96184a016": {
          "model_module": "@jupyter-widgets/controls",
          "model_name": "ProgressStyleModel",
          "model_module_version": "1.5.0",
          "state": {
            "_view_name": "StyleView",
            "_model_name": "ProgressStyleModel",
            "description_width": "",
            "_view_module": "@jupyter-widgets/base",
            "_model_module_version": "1.5.0",
            "_view_count": null,
            "_view_module_version": "1.2.0",
            "bar_color": null,
            "_model_module": "@jupyter-widgets/controls"
          }
        },
        "b213eec67ec04edd9c3895ac746d6bd7": {
          "model_module": "@jupyter-widgets/base",
          "model_name": "LayoutModel",
          "model_module_version": "1.2.0",
          "state": {
            "_view_name": "LayoutView",
            "grid_template_rows": null,
            "right": null,
            "justify_content": null,
            "_view_module": "@jupyter-widgets/base",
            "overflow": null,
            "_model_module_version": "1.2.0",
            "_view_count": null,
            "flex_flow": null,
            "width": null,
            "min_width": null,
            "border": null,
            "align_items": null,
            "bottom": null,
            "_model_module": "@jupyter-widgets/base",
            "top": null,
            "grid_column": null,
            "overflow_y": null,
            "overflow_x": null,
            "grid_auto_flow": null,
            "grid_area": null,
            "grid_template_columns": null,
            "flex": null,
            "_model_name": "LayoutModel",
            "justify_items": null,
            "grid_row": null,
            "max_height": null,
            "align_content": null,
            "visibility": null,
            "align_self": null,
            "height": null,
            "min_height": null,
            "padding": null,
            "grid_auto_rows": null,
            "grid_gap": null,
            "max_width": null,
            "order": null,
            "_view_module_version": "1.2.0",
            "grid_template_areas": null,
            "object_position": null,
            "object_fit": null,
            "grid_auto_columns": null,
            "margin": null,
            "display": null,
            "left": null
          }
        },
        "68cb4f2e1bef4a6c9050132bb741e67c": {
          "model_module": "@jupyter-widgets/controls",
          "model_name": "DescriptionStyleModel",
          "model_module_version": "1.5.0",
          "state": {
            "_view_name": "StyleView",
            "_model_name": "DescriptionStyleModel",
            "description_width": "",
            "_view_module": "@jupyter-widgets/base",
            "_model_module_version": "1.5.0",
            "_view_count": null,
            "_view_module_version": "1.2.0",
            "_model_module": "@jupyter-widgets/controls"
          }
        },
        "3c577006dcde49ea9272be18df5e4605": {
          "model_module": "@jupyter-widgets/base",
          "model_name": "LayoutModel",
          "model_module_version": "1.2.0",
          "state": {
            "_view_name": "LayoutView",
            "grid_template_rows": null,
            "right": null,
            "justify_content": null,
            "_view_module": "@jupyter-widgets/base",
            "overflow": null,
            "_model_module_version": "1.2.0",
            "_view_count": null,
            "flex_flow": null,
            "width": null,
            "min_width": null,
            "border": null,
            "align_items": null,
            "bottom": null,
            "_model_module": "@jupyter-widgets/base",
            "top": null,
            "grid_column": null,
            "overflow_y": null,
            "overflow_x": null,
            "grid_auto_flow": null,
            "grid_area": null,
            "grid_template_columns": null,
            "flex": null,
            "_model_name": "LayoutModel",
            "justify_items": null,
            "grid_row": null,
            "max_height": null,
            "align_content": null,
            "visibility": null,
            "align_self": null,
            "height": null,
            "min_height": null,
            "padding": null,
            "grid_auto_rows": null,
            "grid_gap": null,
            "max_width": null,
            "order": null,
            "_view_module_version": "1.2.0",
            "grid_template_areas": null,
            "object_position": null,
            "object_fit": null,
            "grid_auto_columns": null,
            "margin": null,
            "display": null,
            "left": null
          }
        }
      }
    }
  },
  "cells": [
    {
      "cell_type": "markdown",
      "metadata": {
        "id": "view-in-github",
        "colab_type": "text"
      },
      "source": [
        "<a href=\"https://colab.research.google.com/github/sultanbst123/MachineHack-Dare_in_reality/blob/main/Dare_in_reality.ipynb\" target=\"_parent\"><img src=\"https://colab.research.google.com/assets/colab-badge.svg\" alt=\"Open In Colab\"/></a>"
      ]
    },
    {
      "cell_type": "markdown",
      "metadata": {
        "id": "viIX6AhSLA14"
      },
      "source": [
        "# Data modelling with Python"
      ]
    },
    {
      "cell_type": "markdown",
      "metadata": {
        "id": "x8Vj2x77LEsR"
      },
      "source": [
        "## Library & File"
      ]
    },
    {
      "cell_type": "code",
      "metadata": {
        "id": "cf27kstWJ7FL"
      },
      "source": [
        "\n",
        "!pip install catboost\n",
        "!pip install optuna\n",
        "!pip install borutashap"
      ],
      "execution_count": null,
      "outputs": []
    },
    {
      "cell_type": "code",
      "metadata": {
        "id": "r8Col-ccKE0j"
      },
      "source": [
        "!pip install --upgrade scikit-learn"
      ],
      "execution_count": null,
      "outputs": []
    },
    {
      "cell_type": "code",
      "metadata": {
        "id": "kBto7FcnKK7_"
      },
      "source": [
        "import pandas as pd\n",
        "import numpy as np\n",
        "import matplotlib.pyplot as plt\n",
        "import seaborn as sns\n",
        "import optuna\n",
        "from BorutaShap import BorutaShap\n",
        " \n",
        "# classification\n",
        "import lightgbm, catboost\n",
        "from catboost import CatBoostClassifier\n",
        "from lightgbm import LGBMClassifier\n",
        "\n",
        "# regression\n",
        "from catboost import CatBoostRegressor\n",
        "from lightgbm import LGBMRegressor\n",
        "\n",
        "#preprocessing\n",
        "from sklearn.model_selection import train_test_split, KFold, cross_val_score, StratifiedKFold, GridSearchCV\n",
        "from sklearn.metrics import (accuracy_score, classification_report, confusion_matrix,f1_score, \n",
        "                            log_loss, roc_auc_score, plot_roc_curve,plot_confusion_matrix) \n",
        "from sklearn.metrics import mean_absolute_error, mean_squared_error, mean_squared_log_error, r2_score\n",
        "from sklearn.preprocessing import LabelEncoder,OneHotEncoder, StandardScaler, MinMaxScaler, RobustScaler\n",
        "from sklearn.calibration import CalibrationDisplay\n",
        "\n",
        "import warnings\n",
        "warnings.filterwarnings(\"ignore\")\n",
        " \n",
        "%matplotlib inline"
      ],
      "execution_count": null,
      "outputs": []
    },
    {
      "cell_type": "code",
      "metadata": {
        "id": "I7cUhsIXKoYm"
      },
      "source": [
        "train = pd.read_csv(\"/content/drive/MyDrive/Dare in reality/train_dir(clean).csv\") \n",
        "test = pd.read_csv(\"/content/drive/MyDrive/Dare in reality/test_dir(clean).csv\")\n",
        "sub = pd.read_csv(\"/content/drive/MyDrive/Dare in reality/submission.csv\")"
      ],
      "execution_count": null,
      "outputs": []
    },
    {
      "cell_type": "code",
      "metadata": {
        "colab": {
          "base_uri": "https://localhost:8080/"
        },
        "id": "OgkeVqj2K3TV",
        "outputId": "2516d8ea-2748-4966-87ba-2d9dcd957e67"
      },
      "source": [
        "train.info()"
      ],
      "execution_count": null,
      "outputs": [
        {
          "output_type": "stream",
          "name": "stdout",
          "text": [
            "<class 'pandas.core.frame.DataFrame'>\n",
            "RangeIndex: 10276 entries, 0 to 10275\n",
            "Data columns (total 22 columns):\n",
            " #   Column           Non-Null Count  Dtype  \n",
            "---  ------           --------------  -----  \n",
            " 0    LAP_NUMBER      10276 non-null  int64  \n",
            " 1   LAP_TIME         10276 non-null  int64  \n",
            " 2    KPH             10246 non-null  float64\n",
            " 3    ELAPSED         10276 non-null  object \n",
            " 4    HOUR            10276 non-null  object \n",
            " 5   S1_LARGE         10272 non-null  object \n",
            " 6   S2_LARGE         10268 non-null  object \n",
            " 7   S3_LARGE         10242 non-null  object \n",
            " 8   GROUP            10276 non-null  object \n",
            " 9   TEAM             10276 non-null  object \n",
            " 10  LOCATION         10276 non-null  object \n",
            " 11  EVENT            10276 non-null  object \n",
            " 12  AIR_TEMP         10276 non-null  int64  \n",
            " 13  TRACK_TEMP       10276 non-null  int64  \n",
            " 14  HUMIDITY         10276 non-null  int64  \n",
            " 15  WIND_SPEED       10276 non-null  int64  \n",
            " 16  WIND_DIRECTION   10276 non-null  float64\n",
            " 17  RAIN             10276 non-null  int64  \n",
            " 18  PIT?             10276 non-null  object \n",
            " 19  DRIVER           10276 non-null  object \n",
            " 20  ALL_IMPROVEMENT  10276 non-null  float64\n",
            " 21  POWER?           10276 non-null  object \n",
            "dtypes: float64(3), int64(7), object(12)\n",
            "memory usage: 1.7+ MB\n"
          ]
        }
      ]
    },
    {
      "cell_type": "code",
      "metadata": {
        "colab": {
          "base_uri": "https://localhost:8080/"
        },
        "id": "AAgqlYFXK7qB",
        "outputId": "c7aea4ca-cba9-4abf-b7cb-bdb1a6d18a25"
      },
      "source": [
        "train.head()"
      ],
      "execution_count": null,
      "outputs": [
        {
          "output_type": "execute_result",
          "data": {
            "text/html": [
              "<div>\n",
              "<style scoped>\n",
              "    .dataframe tbody tr th:only-of-type {\n",
              "        vertical-align: middle;\n",
              "    }\n",
              "\n",
              "    .dataframe tbody tr th {\n",
              "        vertical-align: top;\n",
              "    }\n",
              "\n",
              "    .dataframe thead th {\n",
              "        text-align: right;\n",
              "    }\n",
              "</style>\n",
              "<table border=\"1\" class=\"dataframe\">\n",
              "  <thead>\n",
              "    <tr style=\"text-align: right;\">\n",
              "      <th></th>\n",
              "      <th>LAP_NUMBER</th>\n",
              "      <th>LAP_TIME</th>\n",
              "      <th>KPH</th>\n",
              "      <th>ELAPSED</th>\n",
              "      <th>HOUR</th>\n",
              "      <th>S1_LARGE</th>\n",
              "      <th>S2_LARGE</th>\n",
              "      <th>S3_LARGE</th>\n",
              "      <th>GROUP</th>\n",
              "      <th>TEAM</th>\n",
              "      <th>LOCATION</th>\n",
              "      <th>EVENT</th>\n",
              "      <th>AIR_TEMP</th>\n",
              "      <th>TRACK_TEMP</th>\n",
              "      <th>HUMIDITY</th>\n",
              "      <th>WIND_SPEED</th>\n",
              "      <th>WIND_DIRECTION</th>\n",
              "      <th>RAIN</th>\n",
              "      <th>PIT?</th>\n",
              "      <th>DRIVER</th>\n",
              "      <th>ALL_IMPROVEMENT</th>\n",
              "      <th>POWER?</th>\n",
              "    </tr>\n",
              "  </thead>\n",
              "  <tbody>\n",
              "    <tr>\n",
              "      <th>0</th>\n",
              "      <td>1</td>\n",
              "      <td>92</td>\n",
              "      <td>28.8</td>\n",
              "      <td>07:02.0</td>\n",
              "      <td>22:02.0</td>\n",
              "      <td>05:43.3</td>\n",
              "      <td>00:35.4</td>\n",
              "      <td>00:43.3</td>\n",
              "      <td>none</td>\n",
              "      <td>JR</td>\n",
              "      <td>Location 2</td>\n",
              "      <td>Free Practice 2</td>\n",
              "      <td>12</td>\n",
              "      <td>12</td>\n",
              "      <td>65</td>\n",
              "      <td>2</td>\n",
              "      <td>149.0</td>\n",
              "      <td>-1</td>\n",
              "      <td>yes</td>\n",
              "      <td>SB_10</td>\n",
              "      <td>0.0</td>\n",
              "      <td>no</td>\n",
              "    </tr>\n",
              "    <tr>\n",
              "      <th>1</th>\n",
              "      <td>2</td>\n",
              "      <td>87</td>\n",
              "      <td>120.5</td>\n",
              "      <td>08:43.0</td>\n",
              "      <td>23:43.0</td>\n",
              "      <td>00:25.7</td>\n",
              "      <td>00:33.4</td>\n",
              "      <td>00:41.9</td>\n",
              "      <td>none</td>\n",
              "      <td>JR</td>\n",
              "      <td>Location 2</td>\n",
              "      <td>Free Practice 2</td>\n",
              "      <td>12</td>\n",
              "      <td>12</td>\n",
              "      <td>65</td>\n",
              "      <td>2</td>\n",
              "      <td>149.0</td>\n",
              "      <td>-1</td>\n",
              "      <td>no</td>\n",
              "      <td>SB_10</td>\n",
              "      <td>2.0</td>\n",
              "      <td>no</td>\n",
              "    </tr>\n",
              "    <tr>\n",
              "      <th>2</th>\n",
              "      <td>3</td>\n",
              "      <td>73</td>\n",
              "      <td>101.9</td>\n",
              "      <td>10:42.5</td>\n",
              "      <td>25:42.5</td>\n",
              "      <td>00:28.1</td>\n",
              "      <td>00:34.1</td>\n",
              "      <td>00:57.2</td>\n",
              "      <td>none</td>\n",
              "      <td>JR</td>\n",
              "      <td>Location 2</td>\n",
              "      <td>Free Practice 2</td>\n",
              "      <td>12</td>\n",
              "      <td>12</td>\n",
              "      <td>65</td>\n",
              "      <td>2</td>\n",
              "      <td>149.0</td>\n",
              "      <td>-1</td>\n",
              "      <td>no</td>\n",
              "      <td>SB_10</td>\n",
              "      <td>0.0</td>\n",
              "      <td>no</td>\n",
              "    </tr>\n",
              "    <tr>\n",
              "      <th>3</th>\n",
              "      <td>1</td>\n",
              "      <td>73</td>\n",
              "      <td>75.9</td>\n",
              "      <td>02:40.2</td>\n",
              "      <td>17:40.2</td>\n",
              "      <td>01:05.0</td>\n",
              "      <td>00:38.4</td>\n",
              "      <td>00:56.8</td>\n",
              "      <td>none</td>\n",
              "      <td>AD</td>\n",
              "      <td>Location 2</td>\n",
              "      <td>Free Practice 2</td>\n",
              "      <td>12</td>\n",
              "      <td>12</td>\n",
              "      <td>65</td>\n",
              "      <td>2</td>\n",
              "      <td>149.0</td>\n",
              "      <td>-1</td>\n",
              "      <td>yes</td>\n",
              "      <td>LGRA_11</td>\n",
              "      <td>0.0</td>\n",
              "      <td>no</td>\n",
              "    </tr>\n",
              "    <tr>\n",
              "      <th>4</th>\n",
              "      <td>2</td>\n",
              "      <td>73</td>\n",
              "      <td>111.2</td>\n",
              "      <td>04:29.7</td>\n",
              "      <td>19:29.7</td>\n",
              "      <td>00:28.0</td>\n",
              "      <td>00:36.7</td>\n",
              "      <td>00:44.7</td>\n",
              "      <td>none</td>\n",
              "      <td>AD</td>\n",
              "      <td>Location 2</td>\n",
              "      <td>Free Practice 2</td>\n",
              "      <td>12</td>\n",
              "      <td>12</td>\n",
              "      <td>65</td>\n",
              "      <td>2</td>\n",
              "      <td>149.0</td>\n",
              "      <td>-1</td>\n",
              "      <td>no</td>\n",
              "      <td>LGRA_11</td>\n",
              "      <td>0.0</td>\n",
              "      <td>no</td>\n",
              "    </tr>\n",
              "  </tbody>\n",
              "</table>\n",
              "</div>"
            ],
            "text/plain": [
              "    LAP_NUMBER  LAP_TIME    KPH  ELAPSED  ... PIT?   DRIVER ALL_IMPROVEMENT POWER?\n",
              "0            1        92   28.8  07:02.0  ...  yes    SB_10             0.0     no\n",
              "1            2        87  120.5  08:43.0  ...   no    SB_10             2.0     no\n",
              "2            3        73  101.9  10:42.5  ...   no    SB_10             0.0     no\n",
              "3            1        73   75.9  02:40.2  ...  yes  LGRA_11             0.0     no\n",
              "4            2        73  111.2  04:29.7  ...   no  LGRA_11             0.0     no\n",
              "\n",
              "[5 rows x 22 columns]"
            ]
          },
          "metadata": {},
          "execution_count": 6
        }
      ]
    },
    {
      "cell_type": "code",
      "metadata": {
        "id": "IeeTJcekjQY_"
      },
      "source": [
        "\n",
        "#drop lap time di test \n",
        "\n",
        "test.drop(\"LAP_TIME\", axis=1, inplace=True)"
      ],
      "execution_count": null,
      "outputs": []
    },
    {
      "cell_type": "markdown",
      "metadata": {
        "id": "tUXMhUuSLIUS"
      },
      "source": [
        "## split"
      ]
    },
    {
      "cell_type": "code",
      "metadata": {
        "id": "3IP2tGQiK_6D"
      },
      "source": [
        "x = train.drop(\"LAP_TIME\", axis=1) \n",
        "y = train.LAP_TIME"
      ],
      "execution_count": null,
      "outputs": []
    },
    {
      "cell_type": "code",
      "metadata": {
        "id": "Mf32FT5HLYmX"
      },
      "source": [
        "cater = x.select_dtypes(exclude=\"number\").columns"
      ],
      "execution_count": null,
      "outputs": []
    },
    {
      "cell_type": "code",
      "metadata": {
        "id": "LtmGq8yxL6y7"
      },
      "source": [
        "\n",
        "# ubah ke type category\n",
        "x[cater] = x[cater].astype(\"category\")"
      ],
      "execution_count": null,
      "outputs": []
    },
    {
      "cell_type": "code",
      "metadata": {
        "id": "wROVPH7lLe6U"
      },
      "source": [
        "x_train,x_val,y_train,y_val = train_test_split(x, y, test_size=0.1, random_state=43)"
      ],
      "execution_count": null,
      "outputs": []
    },
    {
      "cell_type": "code",
      "metadata": {
        "colab": {
          "base_uri": "https://localhost:8080/"
        },
        "id": "m_s2v4eSLxS2",
        "outputId": "40a8007c-842d-4dc8-cdde-db95a5d61cc6"
      },
      "source": [
        "## coba dengan lgbm \n",
        "\n",
        "lg = LGBMRegressor(random_state=42) \n",
        "lg.fit(x_train, y_train)"
      ],
      "execution_count": null,
      "outputs": [
        {
          "output_type": "execute_result",
          "data": {
            "text/plain": [
              "LGBMRegressor(random_state=42)"
            ]
          },
          "metadata": {},
          "execution_count": 86
        }
      ]
    },
    {
      "cell_type": "code",
      "metadata": {
        "id": "hz-F6YV5MUg3"
      },
      "source": [
        "pred = lg.predict(x_val)"
      ],
      "execution_count": null,
      "outputs": []
    },
    {
      "cell_type": "code",
      "metadata": {
        "colab": {
          "base_uri": "https://localhost:8080/"
        },
        "id": "lYvP8gXFjkvs",
        "outputId": "b5fb7fc4-5e73-4991-a9ae-20f04b47e21a"
      },
      "source": [
        "print(f\"r2_score train: {lg.score(x_train,y_train) }\")\n",
        "print(f\"r2_score val: {lg.score(x_val,y_val) }\")\n",
        "print(f\"RMSLE : {mean_squared_log_error(y_val,pred, squared=False)}\")\n",
        "print(f\"MAE : {mean_absolute_error(y_val,pred)}\")"
      ],
      "execution_count": null,
      "outputs": [
        {
          "output_type": "stream",
          "name": "stdout",
          "text": [
            "r2_score train: 0.6084054716791907\n",
            "r2_score val: -0.015992623475143963\n",
            "RMSLE : 0.530794946056586\n",
            "MAE : 18.157528180284253\n"
          ]
        }
      ]
    },
    {
      "cell_type": "code",
      "metadata": {
        "colab": {
          "base_uri": "https://localhost:8080/",
          "height": 342
        },
        "id": "RrmouV8FM7Wu",
        "outputId": "644bec69-b2e2-4d6f-ab6f-e650d8b32a07"
      },
      "source": [
        "\n",
        "# check important feature\n",
        "\n",
        "fig, ax = plt.subplots(1, 1,figsize=(17,20)) \n",
        "\n",
        "lightgbm.plot_importance(lg,ax=ax)"
      ],
      "execution_count": null,
      "outputs": [
        {
          "output_type": "execute_result",
          "data": {
            "text/plain": [
              "<matplotlib.axes._subplots.AxesSubplot at 0x7f0e153bd7d0>"
            ]
          },
          "metadata": {},
          "execution_count": 38
        },
        {
          "output_type": "display_data",
          "data": {
            "image/png": "[encoded data removed]",
            "text/plain": [
              "<Figure size 1224x1440 with 1 Axes>"
            ]
          },
          "metadata": {
            "needs_background": "light"
          }
        }
      ]
    },
    {
      "cell_type": "code",
      "metadata": {
        "id": "yujVjHrwOGBV"
      },
      "source": [
        ""
      ],
      "execution_count": null,
      "outputs": []
    },
    {
      "cell_type": "markdown",
      "metadata": {
        "id": "A7BDR9e5OIVO"
      },
      "source": [
        "## feature selection"
      ]
    },
    {
      "cell_type": "code",
      "metadata": {
        "id": "bQVY7bA6OMYn"
      },
      "source": [
        "fs = BorutaShap(model=lg,\n",
        "                importance_measure=\"shap\",\n",
        "                classification = False)"
      ],
      "execution_count": null,
      "outputs": []
    },
    {
      "cell_type": "code",
      "metadata": {
        "colab": {
          "base_uri": "https://localhost:8080/",
          "height": 193,
          "referenced_widgets": [
            "795a6e652d484ced94c63e0308ec6d77",
            "3d961f8250e24652af0701cc07ce1206",
            "6c89ad2056154dcf89e06235e22eb1b2",
            "8d212d9a223444999d46b75d2f5a3f5e",
            "a595370f40844064a5c00a0cb3cc89a3",
            "ee25230dddaa4aa598e78b0321358ccd",
            "aba917a0c6d843bdbed4524d3ace6738",
            "463e512f405942ce9780bec96184a016",
            "b213eec67ec04edd9c3895ac746d6bd7",
            "68cb4f2e1bef4a6c9050132bb741e67c",
            "3c577006dcde49ea9272be18df5e4605"
          ]
        },
        "id": "8wWzLcFHOQ8n",
        "outputId": "e3355612-a765-421b-8b06-f1c050807f18"
      },
      "source": [
        "fs.fit(X=x_train, y=y_train, n_trials=10,random_state=0)"
      ],
      "execution_count": null,
      "outputs": [
        {
          "output_type": "stream",
          "name": "stdout",
          "text": [
            "Warning there are missing values in your data !\n"
          ]
        },
        {
          "output_type": "display_data",
          "data": {
            "application/vnd.jupyter.widget-view+json": {
              "model_id": "795a6e652d484ced94c63e0308ec6d77",
              "version_minor": 0,
              "version_major": 2
            },
            "text/plain": [
              "  0%|          | 0/10 [00:00<?, ?it/s]"
            ]
          },
          "metadata": {}
        },
        {
          "output_type": "stream",
          "name": "stdout",
          "text": [
            "1 attributes confirmed important: ['LOCATION']\n",
            "19 attributes confirmed unimportant: ['S1_LARGE', 'WIND_SPEED', ' KPH', ' LAP_NUMBER', 'PIT?', 'RAIN', ' HOUR', 'HUMIDITY', 'S3_LARGE', 'WIND_DIRECTION', 'EVENT', 'AIR_TEMP', 'ALL_IMPROVEMENT', ' ELAPSED', 'TEAM', 'GROUP', 'TRACK_TEMP', 'POWER?', 'DRIVER']\n",
            "1 tentative attributes remains: ['S2_LARGE']\n"
          ]
        }
      ]
    },
    {
      "cell_type": "code",
      "metadata": {
        "colab": {
          "base_uri": "https://localhost:8080/",
          "height": 168
        },
        "id": "DouzygirOcdq",
        "outputId": "49f7b692-d62e-4011-c265-a714be6e5d1d"
      },
      "source": [
        "fs.plot(which_features='all', figsize=(24,12))"
      ],
      "execution_count": null,
      "outputs": [
        {
          "output_type": "display_data",
          "data": {
            "image/png": "[encoded data removed]",
            "text/plain": [
              "<Figure size 1728x864 with 1 Axes>"
            ]
          },
          "metadata": {
            "needs_background": "light"
          }
        }
      ]
    },
    {
      "cell_type": "code",
      "metadata": {
        "colab": {
          "base_uri": "https://localhost:8080/"
        },
        "id": "xYI4R91iOsmY",
        "outputId": "e989be7a-e255-46d8-975d-7027b31de3c2"
      },
      "source": [
        "col = fs.Subset().columns.to_list()\n",
        "col"
      ],
      "execution_count": null,
      "outputs": [
        {
          "output_type": "execute_result",
          "data": {
            "text/plain": [
              "['LOCATION']"
            ]
          },
          "metadata": {},
          "execution_count": 43
        }
      ]
    },
    {
      "cell_type": "code",
      "metadata": {
        "id": "UOxqEw7RhWfV"
      },
      "source": [
        "col = ['LOCATION',\"DRIVER\"]"
      ],
      "execution_count": null,
      "outputs": []
    },
    {
      "cell_type": "markdown",
      "metadata": {
        "id": "ZXtv8QluiAr7"
      },
      "source": [
        "## Hyper parameters tuning, lgbm & catboost"
      ]
    },
    {
      "cell_type": "markdown",
      "metadata": {
        "id": "y1vLpE-kk2Sd"
      },
      "source": [
        "### Catboost"
      ]
    },
    {
      "cell_type": "code",
      "metadata": {
        "id": "i9Keyl9qkk97"
      },
      "source": [
        "def objective(trial):\n",
        "    \n",
        "    params = {#'loss_function':'RMSE',              \n",
        "              #'eval_metric':'Accuracy',\n",
        "              #task_type : trial.suggest_categorical(\"task_type\",[\"GPU\"]),\n",
        "              'boosting_type': trial.suggest_categorical(\"boosting_type\", [\"Ordered\", \"Plain\"]),            \n",
        "              'bootstrap_type':trial.suggest_categorical(\"bootstrap_type\",[\"Bernoulli\"]), #\"MVS\"]),#\"Bayesian\" \n",
        "              'iterations':trial.suggest_categorical(\"iterations\", [10000]),\n",
        "              'od_wait':trial.suggest_int('od_wait', 500, 2000), \n",
        "              'random_strength': trial.suggest_uniform('random_strength',10,50),                           \n",
        "              'learning_rate' : trial.suggest_uniform('learning_rate',0.01,1.0),\n",
        "              'reg_lambda': trial.suggest_uniform('reg_lambda',1e-5,100),\n",
        "              'subsample': trial.suggest_uniform('subsample',0,1),\n",
        "              'depth': trial.suggest_int('depth',1,10),\n",
        "              'min_data_in_leaf': trial.suggest_int('min_data_in_leaf',1,30),\n",
        "              'leaf_estimation_iterations': trial.suggest_int('leaf_estimation_iterations',1,15),\n",
        "               }\n",
        "\n",
        "    model = CatBoostRegressor(**params)  \n",
        "    model.fit(x_train[col],y_train,eval_set=[(x_val[col],y_val)],verbose=False,early_stopping_rounds=100, \n",
        "              cat_features = col) #catfeatures for category cols\n",
        "        \n",
        "    y_preds = model.predict(x_val[col])   \n",
        "    rmsle = mean_squared_log_error(y_val, y_preds,squared=False)\n",
        "\n",
        "    return rmsle"
      ],
      "execution_count": null,
      "outputs": []
    },
    {
      "cell_type": "code",
      "metadata": {
        "colab": {
          "base_uri": "https://localhost:8080/"
        },
        "id": "Iw8LgE2hmjuc",
        "outputId": "f28ef17c-4f46-4ff1-9692-dd800357df21"
      },
      "source": [
        "study = optuna.create_study(direction='minimize')\n",
        "study.optimize(objective, n_trials=100)"
      ],
      "execution_count": null,
      "outputs": [
        {
          "output_type": "stream",
          "name": "stderr",
          "text": [
            "\u001b[32m[I 2021-11-22 07:53:12,406]\u001b[0m A new study created in memory with name: no-name-8f6ca605-d215-4785-99a3-531b0bfe3d5b\u001b[0m\n",
            "\u001b[32m[I 2021-11-22 07:53:12,683]\u001b[0m Trial 0 finished with value: 0.5204473940937031 and parameters: {'boosting_type': 'Plain', 'bootstrap_type': 'Bernoulli', 'iterations': 10000, 'od_wait': 1880, 'random_strength': 30.274211470215274, 'learning_rate': 0.9472260938575495, 'reg_lambda': 36.22570373068032, 'subsample': 0.26505496962818953, 'depth': 3, 'min_data_in_leaf': 19, 'leaf_estimation_iterations': 2}. Best is trial 0 with value: 0.5204473940937031.\u001b[0m\n",
            "\u001b[32m[I 2021-11-22 07:53:13,100]\u001b[0m Trial 1 finished with value: 0.5206683084239906 and parameters: {'boosting_type': 'Ordered', 'bootstrap_type': 'Bernoulli', 'iterations': 10000, 'od_wait': 710, 'random_strength': 20.603555039019717, 'learning_rate': 0.8813967756678207, 'reg_lambda': 1.2678795183493015, 'subsample': 0.003863730793541409, 'depth': 5, 'min_data_in_leaf': 22, 'leaf_estimation_iterations': 3}. Best is trial 0 with value: 0.5204473940937031.\u001b[0m\n",
            "\u001b[32m[I 2021-11-22 07:53:14,594]\u001b[0m Trial 2 finished with value: 0.5189712688598409 and parameters: {'boosting_type': 'Ordered', 'bootstrap_type': 'Bernoulli', 'iterations': 10000, 'od_wait': 1085, 'random_strength': 12.86370910140132, 'learning_rate': 0.47760011016146986, 'reg_lambda': 40.88830321418494, 'subsample': 0.9225612691597501, 'depth': 8, 'min_data_in_leaf': 13, 'leaf_estimation_iterations': 11}. Best is trial 2 with value: 0.5189712688598409.\u001b[0m\n",
            "\u001b[32m[I 2021-11-22 07:53:15,251]\u001b[0m Trial 3 finished with value: 0.5197172767766749 and parameters: {'boosting_type': 'Ordered', 'bootstrap_type': 'Bernoulli', 'iterations': 10000, 'od_wait': 1377, 'random_strength': 47.204975278287684, 'learning_rate': 0.3262751336301647, 'reg_lambda': 56.22753349614228, 'subsample': 0.7815778201171519, 'depth': 4, 'min_data_in_leaf': 4, 'leaf_estimation_iterations': 5}. Best is trial 2 with value: 0.5189712688598409.\u001b[0m\n",
            "\u001b[32m[I 2021-11-22 07:53:15,864]\u001b[0m Trial 4 finished with value: 0.5195963579393407 and parameters: {'boosting_type': 'Ordered', 'bootstrap_type': 'Bernoulli', 'iterations': 10000, 'od_wait': 657, 'random_strength': 19.55352064192453, 'learning_rate': 0.4148719706517762, 'reg_lambda': 49.962463080218846, 'subsample': 0.6671994668261501, 'depth': 5, 'min_data_in_leaf': 29, 'leaf_estimation_iterations': 4}. Best is trial 2 with value: 0.5189712688598409.\u001b[0m\n",
            "\u001b[32m[I 2021-11-22 07:53:17,051]\u001b[0m Trial 5 finished with value: 0.5199722350059652 and parameters: {'boosting_type': 'Ordered', 'bootstrap_type': 'Bernoulli', 'iterations': 10000, 'od_wait': 1062, 'random_strength': 48.11240721614814, 'learning_rate': 0.09606047292894858, 'reg_lambda': 76.39267877128388, 'subsample': 0.3504152861430545, 'depth': 1, 'min_data_in_leaf': 21, 'leaf_estimation_iterations': 7}. Best is trial 2 with value: 0.5189712688598409.\u001b[0m\n",
            "\u001b[32m[I 2021-11-22 07:53:19,830]\u001b[0m Trial 6 finished with value: 0.5191677372192257 and parameters: {'boosting_type': 'Ordered', 'bootstrap_type': 'Bernoulli', 'iterations': 10000, 'od_wait': 898, 'random_strength': 47.06415298143996, 'learning_rate': 0.7461938769914706, 'reg_lambda': 31.613435151564854, 'subsample': 0.4677302590171629, 'depth': 1, 'min_data_in_leaf': 18, 'leaf_estimation_iterations': 13}. Best is trial 2 with value: 0.5189712688598409.\u001b[0m\n",
            "\u001b[32m[I 2021-11-22 07:53:20,785]\u001b[0m Trial 7 finished with value: 0.5196794419507889 and parameters: {'boosting_type': 'Ordered', 'bootstrap_type': 'Bernoulli', 'iterations': 10000, 'od_wait': 577, 'random_strength': 12.473559112387896, 'learning_rate': 0.7601828707032968, 'reg_lambda': 7.497164432375635, 'subsample': 0.5994762228895427, 'depth': 4, 'min_data_in_leaf': 21, 'leaf_estimation_iterations': 12}. Best is trial 2 with value: 0.5189712688598409.\u001b[0m\n",
            "\u001b[32m[I 2021-11-22 07:53:22,207]\u001b[0m Trial 8 finished with value: 0.5203057809953462 and parameters: {'boosting_type': 'Ordered', 'bootstrap_type': 'Bernoulli', 'iterations': 10000, 'od_wait': 719, 'random_strength': 22.485142664428054, 'learning_rate': 0.5217463484686288, 'reg_lambda': 88.48882912588516, 'subsample': 0.09798107925119226, 'depth': 9, 'min_data_in_leaf': 4, 'leaf_estimation_iterations': 9}. Best is trial 2 with value: 0.5189712688598409.\u001b[0m\n",
            "\u001b[32m[I 2021-11-22 07:53:24,003]\u001b[0m Trial 9 finished with value: 0.5183790190161844 and parameters: {'boosting_type': 'Ordered', 'bootstrap_type': 'Bernoulli', 'iterations': 10000, 'od_wait': 529, 'random_strength': 39.66672099478584, 'learning_rate': 0.7491636198902063, 'reg_lambda': 3.2636604411105354, 'subsample': 0.990338888169969, 'depth': 10, 'min_data_in_leaf': 11, 'leaf_estimation_iterations': 4}. Best is trial 9 with value: 0.5183790190161844.\u001b[0m\n",
            "\u001b[32m[I 2021-11-22 07:53:25,306]\u001b[0m Trial 10 finished with value: 0.5182291773115625 and parameters: {'boosting_type': 'Plain', 'bootstrap_type': 'Bernoulli', 'iterations': 10000, 'od_wait': 1435, 'random_strength': 36.901799451638496, 'learning_rate': 0.6604667768163924, 'reg_lambda': 17.150267206029092, 'subsample': 0.9834722166389771, 'depth': 10, 'min_data_in_leaf': 10, 'leaf_estimation_iterations': 15}. Best is trial 10 with value: 0.5182291773115625.\u001b[0m\n",
            "\u001b[32m[I 2021-11-22 07:53:26,581]\u001b[0m Trial 11 finished with value: 0.5202765791939208 and parameters: {'boosting_type': 'Plain', 'bootstrap_type': 'Bernoulli', 'iterations': 10000, 'od_wait': 1517, 'random_strength': 37.02315520892292, 'learning_rate': 0.6578932636800585, 'reg_lambda': 19.89451336218266, 'subsample': 0.9767235683037758, 'depth': 10, 'min_data_in_leaf': 12, 'leaf_estimation_iterations': 15}. Best is trial 10 with value: 0.5182291773115625.\u001b[0m\n",
            "\u001b[32m[I 2021-11-22 07:53:27,299]\u001b[0m Trial 12 finished with value: 0.5207402051336955 and parameters: {'boosting_type': 'Plain', 'bootstrap_type': 'Bernoulli', 'iterations': 10000, 'od_wait': 1657, 'random_strength': 38.02740534680383, 'learning_rate': 0.6198628326776661, 'reg_lambda': 16.390473060101446, 'subsample': 0.7930761445110691, 'depth': 7, 'min_data_in_leaf': 10, 'leaf_estimation_iterations': 7}. Best is trial 10 with value: 0.5182291773115625.\u001b[0m\n",
            "\u001b[32m[I 2021-11-22 07:53:28,379]\u001b[0m Trial 13 finished with value: 0.5181613837430903 and parameters: {'boosting_type': 'Plain', 'bootstrap_type': 'Bernoulli', 'iterations': 10000, 'od_wait': 1234, 'random_strength': 38.91347145159325, 'learning_rate': 0.795192469894756, 'reg_lambda': 0.16851271886621788, 'subsample': 0.8176686398046508, 'depth': 10, 'min_data_in_leaf': 6, 'leaf_estimation_iterations': 15}. Best is trial 13 with value: 0.5181613837430903.\u001b[0m\n",
            "\u001b[32m[I 2021-11-22 07:53:29,302]\u001b[0m Trial 14 finished with value: 0.5192027261144886 and parameters: {'boosting_type': 'Plain', 'bootstrap_type': 'Bernoulli', 'iterations': 10000, 'od_wait': 1263, 'random_strength': 32.66370744498402, 'learning_rate': 0.9881257895000337, 'reg_lambda': 20.957815778829037, 'subsample': 0.8278506628839859, 'depth': 7, 'min_data_in_leaf': 1, 'leaf_estimation_iterations': 14}. Best is trial 13 with value: 0.5181613837430903.\u001b[0m\n",
            "\u001b[32m[I 2021-11-22 07:53:30,215]\u001b[0m Trial 15 finished with value: 0.5195789001068091 and parameters: {'boosting_type': 'Plain', 'bootstrap_type': 'Bernoulli', 'iterations': 10000, 'od_wait': 1696, 'random_strength': 42.02517858005031, 'learning_rate': 0.26763774647847816, 'reg_lambda': 64.60349254300482, 'subsample': 0.6428531556237416, 'depth': 9, 'min_data_in_leaf': 7, 'leaf_estimation_iterations': 10}. Best is trial 13 with value: 0.5181613837430903.\u001b[0m\n",
            "\u001b[32m[I 2021-11-22 07:53:31,191]\u001b[0m Trial 16 finished with value: 0.5195235260797341 and parameters: {'boosting_type': 'Plain', 'bootstrap_type': 'Bernoulli', 'iterations': 10000, 'od_wait': 1401, 'random_strength': 27.09700780002707, 'learning_rate': 0.8450090923302159, 'reg_lambda': 14.445787704475121, 'subsample': 0.8797683194045292, 'depth': 7, 'min_data_in_leaf': 7, 'leaf_estimation_iterations': 15}. Best is trial 13 with value: 0.5181613837430903.\u001b[0m\n",
            "\u001b[32m[I 2021-11-22 07:53:32,410]\u001b[0m Trial 17 finished with value: 0.5191127562014575 and parameters: {'boosting_type': 'Plain', 'bootstrap_type': 'Bernoulli', 'iterations': 10000, 'od_wait': 1114, 'random_strength': 34.41803556921489, 'learning_rate': 0.5849218404170932, 'reg_lambda': 27.99587727109451, 'subsample': 0.7399447443777922, 'depth': 9, 'min_data_in_leaf': 15, 'leaf_estimation_iterations': 13}. Best is trial 13 with value: 0.5181613837430903.\u001b[0m\n",
            "\u001b[32m[I 2021-11-22 07:53:33,398]\u001b[0m Trial 18 finished with value: 0.5196504181184847 and parameters: {'boosting_type': 'Plain', 'bootstrap_type': 'Bernoulli', 'iterations': 10000, 'od_wait': 1586, 'random_strength': 41.232901506720566, 'learning_rate': 0.6991032050411872, 'reg_lambda': 2.176593182824879, 'subsample': 0.5135113418716305, 'depth': 10, 'min_data_in_leaf': 8, 'leaf_estimation_iterations': 12}. Best is trial 13 with value: 0.5181613837430903.\u001b[0m\n",
            "\u001b[32m[I 2021-11-22 07:53:34,433]\u001b[0m Trial 19 finished with value: 0.5189078484110988 and parameters: {'boosting_type': 'Plain', 'bootstrap_type': 'Bernoulli', 'iterations': 10000, 'od_wait': 1996, 'random_strength': 26.88556705042277, 'learning_rate': 0.873006571322019, 'reg_lambda': 42.81017004230179, 'subsample': 0.8867557252283318, 'depth': 8, 'min_data_in_leaf': 2, 'leaf_estimation_iterations': 15}. Best is trial 13 with value: 0.5181613837430903.\u001b[0m\n",
            "\u001b[32m[I 2021-11-22 07:53:35,452]\u001b[0m Trial 20 finished with value: 0.5197399845839251 and parameters: {'boosting_type': 'Plain', 'bootstrap_type': 'Bernoulli', 'iterations': 10000, 'od_wait': 908, 'random_strength': 35.211316536571516, 'learning_rate': 0.05231099483410645, 'reg_lambda': 24.965918533098648, 'subsample': 0.7184028752513114, 'depth': 6, 'min_data_in_leaf': 26, 'leaf_estimation_iterations': 9}. Best is trial 13 with value: 0.5181613837430903.\u001b[0m\n",
            "\u001b[32m[I 2021-11-22 07:53:36,318]\u001b[0m Trial 21 finished with value: 0.5195328993850055 and parameters: {'boosting_type': 'Plain', 'bootstrap_type': 'Bernoulli', 'iterations': 10000, 'od_wait': 513, 'random_strength': 41.841606753517496, 'learning_rate': 0.7971681848640038, 'reg_lambda': 9.721606862745944, 'subsample': 0.9996318526114244, 'depth': 10, 'min_data_in_leaf': 10, 'leaf_estimation_iterations': 6}. Best is trial 13 with value: 0.5181613837430903.\u001b[0m\n",
            "\u001b[32m[I 2021-11-22 07:53:37,482]\u001b[0m Trial 22 finished with value: 0.5196774860753942 and parameters: {'boosting_type': 'Plain', 'bootstrap_type': 'Bernoulli', 'iterations': 10000, 'od_wait': 1300, 'random_strength': 39.59038510555488, 'learning_rate': 0.6801621559407747, 'reg_lambda': 0.6435914234387283, 'subsample': 0.9976520263174824, 'depth': 10, 'min_data_in_leaf': 15, 'leaf_estimation_iterations': 13}. Best is trial 13 with value: 0.5181613837430903.\u001b[0m\n",
            "\u001b[32m[I 2021-11-22 07:53:38,440]\u001b[0m Trial 23 finished with value: 0.5199865298417898 and parameters: {'boosting_type': 'Ordered', 'bootstrap_type': 'Bernoulli', 'iterations': 10000, 'od_wait': 871, 'random_strength': 43.778988302140725, 'learning_rate': 0.7804657896760321, 'reg_lambda': 11.64588720720048, 'subsample': 0.8764799473090968, 'depth': 8, 'min_data_in_leaf': 5, 'leaf_estimation_iterations': 2}. Best is trial 13 with value: 0.5181613837430903.\u001b[0m\n",
            "\u001b[32m[I 2021-11-22 07:53:38,975]\u001b[0m Trial 24 finished with value: 0.5195550400745954 and parameters: {'boosting_type': 'Plain', 'bootstrap_type': 'Bernoulli', 'iterations': 10000, 'od_wait': 1783, 'random_strength': 44.51583688060125, 'learning_rate': 0.5652877619543595, 'reg_lambda': 7.217583175765654, 'subsample': 0.9249867175982222, 'depth': 9, 'min_data_in_leaf': 10, 'leaf_estimation_iterations': 1}. Best is trial 13 with value: 0.5181613837430903.\u001b[0m\n",
            "\u001b[32m[I 2021-11-22 07:53:39,840]\u001b[0m Trial 25 finished with value: 0.5191288879218422 and parameters: {'boosting_type': 'Plain', 'bootstrap_type': 'Bernoulli', 'iterations': 10000, 'od_wait': 1461, 'random_strength': 32.8568557134495, 'learning_rate': 0.932083623503908, 'reg_lambda': 17.09327097864891, 'subsample': 0.872593822383748, 'depth': 10, 'min_data_in_leaf': 13, 'leaf_estimation_iterations': 5}. Best is trial 13 with value: 0.5181613837430903.\u001b[0m\n",
            "\u001b[32m[I 2021-11-22 07:53:41,612]\u001b[0m Trial 26 finished with value: 0.5184515409478853 and parameters: {'boosting_type': 'Ordered', 'bootstrap_type': 'Bernoulli', 'iterations': 10000, 'od_wait': 1187, 'random_strength': 37.617322263221915, 'learning_rate': 0.4616688891024419, 'reg_lambda': 26.51832770380836, 'subsample': 0.5601050449656751, 'depth': 9, 'min_data_in_leaf': 8, 'leaf_estimation_iterations': 11}. Best is trial 13 with value: 0.5181613837430903.\u001b[0m\n",
            "\u001b[32m[I 2021-11-22 07:53:42,331]\u001b[0m Trial 27 finished with value: 0.5202332720068497 and parameters: {'boosting_type': 'Plain', 'bootstrap_type': 'Bernoulli', 'iterations': 10000, 'od_wait': 1001, 'random_strength': 28.98256777117328, 'learning_rate': 0.7199841304302282, 'reg_lambda': 7.50872561832713, 'subsample': 0.7091793795164401, 'depth': 8, 'min_data_in_leaf': 11, 'leaf_estimation_iterations': 8}. Best is trial 13 with value: 0.5181613837430903.\u001b[0m\n",
            "\u001b[32m[I 2021-11-22 07:53:44,939]\u001b[0m Trial 28 finished with value: 0.5197772967615537 and parameters: {'boosting_type': 'Ordered', 'bootstrap_type': 'Bernoulli', 'iterations': 10000, 'od_wait': 808, 'random_strength': 49.904604247633856, 'learning_rate': 0.848861256557122, 'reg_lambda': 99.79337894322245, 'subsample': 0.8101440750405499, 'depth': 10, 'min_data_in_leaf': 17, 'leaf_estimation_iterations': 14}. Best is trial 13 with value: 0.5181613837430903.\u001b[0m\n",
            "\u001b[32m[I 2021-11-22 07:53:45,342]\u001b[0m Trial 29 finished with value: 0.5196809881193976 and parameters: {'boosting_type': 'Plain', 'bootstrap_type': 'Bernoulli', 'iterations': 10000, 'od_wait': 1848, 'random_strength': 44.80318213207973, 'learning_rate': 0.6261448387132987, 'reg_lambda': 35.21287862977942, 'subsample': 0.42685493837150534, 'depth': 6, 'min_data_in_leaf': 6, 'leaf_estimation_iterations': 3}. Best is trial 13 with value: 0.5181613837430903.\u001b[0m\n",
            "\u001b[32m[I 2021-11-22 07:53:45,565]\u001b[0m Trial 30 finished with value: 0.5202482696657483 and parameters: {'boosting_type': 'Plain', 'bootstrap_type': 'Bernoulli', 'iterations': 10000, 'od_wait': 1189, 'random_strength': 31.162382759987032, 'learning_rate': 0.9241951676608797, 'reg_lambda': 0.87494072068082, 'subsample': 0.948888221646892, 'depth': 2, 'min_data_in_leaf': 3, 'leaf_estimation_iterations': 1}. Best is trial 13 with value: 0.5181613837430903.\u001b[0m\n",
            "\u001b[32m[I 2021-11-22 07:53:47,170]\u001b[0m Trial 31 finished with value: 0.5194071085859101 and parameters: {'boosting_type': 'Ordered', 'bootstrap_type': 'Bernoulli', 'iterations': 10000, 'od_wait': 1190, 'random_strength': 36.93462792464941, 'learning_rate': 0.40652319131617654, 'reg_lambda': 24.424092379193937, 'subsample': 0.5580422114737883, 'depth': 9, 'min_data_in_leaf': 8, 'leaf_estimation_iterations': 11}. Best is trial 13 with value: 0.5181613837430903.\u001b[0m\n",
            "\u001b[32m[I 2021-11-22 07:53:48,868]\u001b[0m Trial 32 finished with value: 0.5196748311610604 and parameters: {'boosting_type': 'Ordered', 'bootstrap_type': 'Bernoulli', 'iterations': 10000, 'od_wait': 1310, 'random_strength': 38.73698441174198, 'learning_rate': 0.4457949452052629, 'reg_lambda': 11.186053455938488, 'subsample': 0.17355107087415378, 'depth': 9, 'min_data_in_leaf': 9, 'leaf_estimation_iterations': 14}. Best is trial 13 with value: 0.5181613837430903.\u001b[0m\n",
            "\u001b[32m[I 2021-11-22 07:53:50,976]\u001b[0m Trial 33 finished with value: 0.5196340327127146 and parameters: {'boosting_type': 'Ordered', 'bootstrap_type': 'Bernoulli', 'iterations': 10000, 'od_wait': 1539, 'random_strength': 35.611078404246406, 'learning_rate': 0.5352323313961024, 'reg_lambda': 31.038182064363596, 'subsample': 0.28256426111637817, 'depth': 10, 'min_data_in_leaf': 14, 'leaf_estimation_iterations': 11}. Best is trial 13 with value: 0.5181613837430903.\u001b[0m\n",
            "\u001b[32m[I 2021-11-22 07:53:52,539]\u001b[0m Trial 34 finished with value: 0.5188214752021625 and parameters: {'boosting_type': 'Ordered', 'bootstrap_type': 'Bernoulli', 'iterations': 10000, 'od_wait': 1396, 'random_strength': 40.0341607075206, 'learning_rate': 0.3182788685073148, 'reg_lambda': 38.40148705394509, 'subsample': 0.9263682135861572, 'depth': 8, 'min_data_in_leaf': 12, 'leaf_estimation_iterations': 12}. Best is trial 13 with value: 0.5181613837430903.\u001b[0m\n",
            "\u001b[32m[I 2021-11-22 07:53:54,201]\u001b[0m Trial 35 finished with value: 0.5196751566724468 and parameters: {'boosting_type': 'Ordered', 'bootstrap_type': 'Bernoulli', 'iterations': 10000, 'od_wait': 1024, 'random_strength': 33.52720221937739, 'learning_rate': 0.48384838696688537, 'reg_lambda': 4.330572251253596, 'subsample': 0.8220973566971355, 'depth': 9, 'min_data_in_leaf': 6, 'leaf_estimation_iterations': 10}. Best is trial 13 with value: 0.5181613837430903.\u001b[0m\n",
            "\u001b[32m[I 2021-11-22 07:53:56,835]\u001b[0m Trial 36 finished with value: 0.5196739386451352 and parameters: {'boosting_type': 'Ordered', 'bootstrap_type': 'Bernoulli', 'iterations': 10000, 'od_wait': 1162, 'random_strength': 16.290871953769525, 'learning_rate': 0.8138512036122472, 'reg_lambda': 47.15938424610473, 'subsample': 0.6491056965704226, 'depth': 10, 'min_data_in_leaf': 5, 'leaf_estimation_iterations': 15}. Best is trial 13 with value: 0.5181613837430903.\u001b[0m\n",
            "\u001b[32m[I 2021-11-22 07:53:57,698]\u001b[0m Trial 37 finished with value: 0.5198453109622767 and parameters: {'boosting_type': 'Ordered', 'bootstrap_type': 'Bernoulli', 'iterations': 10000, 'od_wait': 1331, 'random_strength': 30.260500175684314, 'learning_rate': 0.21196616301626964, 'reg_lambda': 20.60558161440331, 'subsample': 0.41415342705033575, 'depth': 8, 'min_data_in_leaf': 9, 'leaf_estimation_iterations': 4}. Best is trial 13 with value: 0.5181613837430903.\u001b[0m\n",
            "\u001b[32m[I 2021-11-22 07:53:59,653]\u001b[0m Trial 38 finished with value: 0.5187916080104145 and parameters: {'boosting_type': 'Ordered', 'bootstrap_type': 'Bernoulli', 'iterations': 10000, 'od_wait': 967, 'random_strength': 43.15348269592915, 'learning_rate': 0.6144228198665167, 'reg_lambda': 67.35121024762091, 'subsample': 0.7430478017602253, 'depth': 9, 'min_data_in_leaf': 17, 'leaf_estimation_iterations': 13}. Best is trial 13 with value: 0.5181613837430903.\u001b[0m\n",
            "\u001b[32m[I 2021-11-22 07:54:00,398]\u001b[0m Trial 39 finished with value: 0.5202019438237958 and parameters: {'boosting_type': 'Ordered', 'bootstrap_type': 'Bernoulli', 'iterations': 10000, 'od_wait': 698, 'random_strength': 46.4671789202928, 'learning_rate': 0.3796454768229883, 'reg_lambda': 15.899320845541691, 'subsample': 0.5865954835731433, 'depth': 3, 'min_data_in_leaf': 13, 'leaf_estimation_iterations': 7}. Best is trial 13 with value: 0.5181613837430903.\u001b[0m\n",
            "\u001b[32m[I 2021-11-22 07:54:02,882]\u001b[0m Trial 40 finished with value: 0.5201704795983698 and parameters: {'boosting_type': 'Ordered', 'bootstrap_type': 'Bernoulli', 'iterations': 10000, 'od_wait': 1454, 'random_strength': 36.51473610979266, 'learning_rate': 0.7385545956775976, 'reg_lambda': 34.002461392825005, 'subsample': 0.951728755046424, 'depth': 10, 'min_data_in_leaf': 3, 'leaf_estimation_iterations': 14}. Best is trial 13 with value: 0.5181613837430903.\u001b[0m\n",
            "\u001b[32m[I 2021-11-22 07:54:04,931]\u001b[0m Trial 41 finished with value: 0.5193671279098253 and parameters: {'boosting_type': 'Ordered', 'bootstrap_type': 'Bernoulli', 'iterations': 10000, 'od_wait': 972, 'random_strength': 43.28740260694353, 'learning_rate': 0.643154223839923, 'reg_lambda': 63.5262270746801, 'subsample': 0.7524924739748927, 'depth': 9, 'min_data_in_leaf': 17, 'leaf_estimation_iterations': 13}. Best is trial 13 with value: 0.5181613837430903.\u001b[0m\n",
            "\u001b[32m[I 2021-11-22 07:54:06,864]\u001b[0m Trial 42 finished with value: 0.5199159848624371 and parameters: {'boosting_type': 'Ordered', 'bootstrap_type': 'Bernoulli', 'iterations': 10000, 'od_wait': 781, 'random_strength': 40.16331949360327, 'learning_rate': 0.5805189190423091, 'reg_lambda': 75.84814823897828, 'subsample': 0.8527040388412034, 'depth': 9, 'min_data_in_leaf': 21, 'leaf_estimation_iterations': 14}. Best is trial 13 with value: 0.5181613837430903.\u001b[0m\n",
            "\u001b[32m[I 2021-11-22 07:54:09,296]\u001b[0m Trial 43 finished with value: 0.5206109954687206 and parameters: {'boosting_type': 'Ordered', 'bootstrap_type': 'Bernoulli', 'iterations': 10000, 'od_wait': 590, 'random_strength': 37.97356257121947, 'learning_rate': 0.6865008827914378, 'reg_lambda': 60.481461857010146, 'subsample': 0.7720278212663978, 'depth': 10, 'min_data_in_leaf': 19, 'leaf_estimation_iterations': 12}. Best is trial 13 with value: 0.5181613837430903.\u001b[0m\n",
            "\u001b[32m[I 2021-11-22 07:54:10,881]\u001b[0m Trial 44 finished with value: 0.5196349737334193 and parameters: {'boosting_type': 'Ordered', 'bootstrap_type': 'Bernoulli', 'iterations': 10000, 'od_wait': 1128, 'random_strength': 45.70418917651923, 'learning_rate': 0.5174718997073537, 'reg_lambda': 73.05566011541008, 'subsample': 0.685560795133757, 'depth': 8, 'min_data_in_leaf': 16, 'leaf_estimation_iterations': 13}. Best is trial 13 with value: 0.5181613837430903.\u001b[0m\n",
            "\u001b[32m[I 2021-11-22 07:54:13,073]\u001b[0m Trial 45 finished with value: 0.5186563110316906 and parameters: {'boosting_type': 'Ordered', 'bootstrap_type': 'Bernoulli', 'iterations': 10000, 'od_wait': 1245, 'random_strength': 10.388161153545884, 'learning_rate': 0.7541753711815291, 'reg_lambda': 54.23994312383853, 'subsample': 0.6216241323269917, 'depth': 9, 'min_data_in_leaf': 23, 'leaf_estimation_iterations': 15}. Best is trial 13 with value: 0.5181613837430903.\u001b[0m\n",
            "\u001b[32m[I 2021-11-22 07:54:14,601]\u001b[0m Trial 46 finished with value: 0.5190834714967292 and parameters: {'boosting_type': 'Ordered', 'bootstrap_type': 'Bernoulli', 'iterations': 10000, 'od_wait': 1244, 'random_strength': 20.67472572567568, 'learning_rate': 0.7590447616488054, 'reg_lambda': 56.185769588224446, 'subsample': 0.5561014899988362, 'depth': 7, 'min_data_in_leaf': 28, 'leaf_estimation_iterations': 8}. Best is trial 13 with value: 0.5181613837430903.\u001b[0m\n",
            "\u001b[32m[I 2021-11-22 07:54:15,508]\u001b[0m Trial 47 finished with value: 0.5182584317458155 and parameters: {'boosting_type': 'Plain', 'bootstrap_type': 'Bernoulli', 'iterations': 10000, 'od_wait': 1621, 'random_strength': 23.52041821864933, 'learning_rate': 0.89335513286522, 'reg_lambda': 52.5248207557441, 'subsample': 0.4835888287636375, 'depth': 4, 'min_data_in_leaf': 24, 'leaf_estimation_iterations': 15}. Best is trial 13 with value: 0.5181613837430903.\u001b[0m\n",
            "\u001b[32m[I 2021-11-22 07:54:16,199]\u001b[0m Trial 48 finished with value: 0.5187525888939736 and parameters: {'boosting_type': 'Plain', 'bootstrap_type': 'Bernoulli', 'iterations': 10000, 'od_wait': 1618, 'random_strength': 25.684476384620037, 'learning_rate': 0.974557658633987, 'reg_lambda': 44.225828311407525, 'subsample': 0.3377015654140061, 'depth': 4, 'min_data_in_leaf': 24, 'leaf_estimation_iterations': 10}. Best is trial 13 with value: 0.5181613837430903.\u001b[0m\n",
            "\u001b[32m[I 2021-11-22 07:54:17,154]\u001b[0m Trial 49 finished with value: 0.5184109638795132 and parameters: {'boosting_type': 'Plain', 'bootstrap_type': 'Bernoulli', 'iterations': 10000, 'od_wait': 1728, 'random_strength': 24.403257092913446, 'learning_rate': 0.8893853482321695, 'reg_lambda': 52.531142672880236, 'subsample': 0.4789508126909198, 'depth': 5, 'min_data_in_leaf': 11, 'leaf_estimation_iterations': 15}. Best is trial 13 with value: 0.5181613837430903.\u001b[0m\n",
            "\u001b[32m[I 2021-11-22 07:54:18,005]\u001b[0m Trial 50 finished with value: 0.5194379696515931 and parameters: {'boosting_type': 'Plain', 'bootstrap_type': 'Bernoulli', 'iterations': 10000, 'od_wait': 1712, 'random_strength': 23.901431876937067, 'learning_rate': 0.9042304171236527, 'reg_lambda': 51.17769243884682, 'subsample': 0.49083729254912417, 'depth': 5, 'min_data_in_leaf': 11, 'leaf_estimation_iterations': 15}. Best is trial 13 with value: 0.5181613837430903.\u001b[0m\n",
            "\u001b[32m[I 2021-11-22 07:54:18,866]\u001b[0m Trial 51 finished with value: 0.5187806801128858 and parameters: {'boosting_type': 'Plain', 'bootstrap_type': 'Bernoulli', 'iterations': 10000, 'od_wait': 1740, 'random_strength': 17.643855313409194, 'learning_rate': 0.8911524817195975, 'reg_lambda': 49.081639564981074, 'subsample': 0.4252954517938303, 'depth': 4, 'min_data_in_leaf': 30, 'leaf_estimation_iterations': 14}. Best is trial 13 with value: 0.5181613837430903.\u001b[0m\n",
            "\u001b[32m[I 2021-11-22 07:54:19,608]\u001b[0m Trial 52 finished with value: 0.5196028706311504 and parameters: {'boosting_type': 'Plain', 'bootstrap_type': 'Bernoulli', 'iterations': 10000, 'od_wait': 1937, 'random_strength': 23.5203886631625, 'learning_rate': 0.8202435867070265, 'reg_lambda': 5.394417128319148, 'subsample': 0.3494900533507416, 'depth': 3, 'min_data_in_leaf': 8, 'leaf_estimation_iterations': 15}. Best is trial 13 with value: 0.5181613837430903.\u001b[0m\n",
            "\u001b[32m[I 2021-11-22 07:54:20,393]\u001b[0m Trial 53 finished with value: 0.5195113177475775 and parameters: {'boosting_type': 'Plain', 'bootstrap_type': 'Bernoulli', 'iterations': 10000, 'od_wait': 1507, 'random_strength': 19.76135326515763, 'learning_rate': 0.8466258000422946, 'reg_lambda': 40.88305216675641, 'subsample': 0.5109656347155179, 'depth': 4, 'min_data_in_leaf': 12, 'leaf_estimation_iterations': 14}. Best is trial 13 with value: 0.5181613837430903.\u001b[0m\n",
            "\u001b[32m[I 2021-11-22 07:54:20,884]\u001b[0m Trial 54 finished with value: 0.5196509639148421 and parameters: {'boosting_type': 'Plain', 'bootstrap_type': 'Bernoulli', 'iterations': 10000, 'od_wait': 1631, 'random_strength': 27.239319159216915, 'learning_rate': 0.9674411201730828, 'reg_lambda': 12.629285069210958, 'subsample': 0.3982620251166269, 'depth': 5, 'min_data_in_leaf': 7, 'leaf_estimation_iterations': 6}. Best is trial 13 with value: 0.5181613837430903.\u001b[0m\n",
            "\u001b[32m[I 2021-11-22 07:54:21,771]\u001b[0m Trial 55 finished with value: 0.5193658404332109 and parameters: {'boosting_type': 'Plain', 'bootstrap_type': 'Bernoulli', 'iterations': 10000, 'od_wait': 1837, 'random_strength': 31.543011424155875, 'learning_rate': 0.7867754965805835, 'reg_lambda': 23.63367617032648, 'subsample': 0.47745861100309545, 'depth': 6, 'min_data_in_leaf': 9, 'leaf_estimation_iterations': 15}. Best is trial 13 with value: 0.5181613837430903.\u001b[0m\n",
            "\u001b[32m[I 2021-11-22 07:54:22,436]\u001b[0m Trial 56 finished with value: 0.5194552176473546 and parameters: {'boosting_type': 'Plain', 'bootstrap_type': 'Bernoulli', 'iterations': 10000, 'od_wait': 1571, 'random_strength': 28.787187983282934, 'learning_rate': 0.8845899244117, 'reg_lambda': 53.25336985929335, 'subsample': 0.1693035973538332, 'depth': 5, 'min_data_in_leaf': 11, 'leaf_estimation_iterations': 11}. Best is trial 13 with value: 0.5181613837430903.\u001b[0m\n",
            "\u001b[32m[I 2021-11-22 07:54:22,943]\u001b[0m Trial 57 finished with value: 0.5196763230014446 and parameters: {'boosting_type': 'Plain', 'bootstrap_type': 'Bernoulli', 'iterations': 10000, 'od_wait': 1457, 'random_strength': 22.073175583172628, 'learning_rate': 0.717175357547204, 'reg_lambda': 29.18560654414144, 'subsample': 0.026427470614748927, 'depth': 2, 'min_data_in_leaf': 14, 'leaf_estimation_iterations': 9}. Best is trial 13 with value: 0.5181613837430903.\u001b[0m\n",
            "\u001b[32m[I 2021-11-22 07:54:23,812]\u001b[0m Trial 58 finished with value: 0.518892083804839 and parameters: {'boosting_type': 'Plain', 'bootstrap_type': 'Bernoulli', 'iterations': 10000, 'od_wait': 1662, 'random_strength': 34.55092378934729, 'learning_rate': 0.9389224248271698, 'reg_lambda': 59.500329993284126, 'subsample': 0.5475896440210715, 'depth': 5, 'min_data_in_leaf': 19, 'leaf_estimation_iterations': 14}. Best is trial 13 with value: 0.5181613837430903.\u001b[0m\n",
            "\u001b[32m[I 2021-11-22 07:54:24,754]\u001b[0m Trial 59 finished with value: 0.5213002353773627 and parameters: {'boosting_type': 'Plain', 'bootstrap_type': 'Bernoulli', 'iterations': 10000, 'od_wait': 1779, 'random_strength': 38.57089351022171, 'learning_rate': 0.8557730809785513, 'reg_lambda': 19.43014828279029, 'subsample': 0.9734137737127829, 'depth': 6, 'min_data_in_leaf': 6, 'leaf_estimation_iterations': 15}. Best is trial 13 with value: 0.5181613837430903.\u001b[0m\n",
            "\u001b[32m[I 2021-11-22 07:54:25,484]\u001b[0m Trial 60 finished with value: 0.5188759304042264 and parameters: {'boosting_type': 'Plain', 'bootstrap_type': 'Bernoulli', 'iterations': 10000, 'od_wait': 1073, 'random_strength': 41.53592457886746, 'learning_rate': 0.9933313041228947, 'reg_lambda': 3.077825608049669, 'subsample': 0.9035753857087427, 'depth': 3, 'min_data_in_leaf': 4, 'leaf_estimation_iterations': 13}. Best is trial 13 with value: 0.5181613837430903.\u001b[0m\n",
            "\u001b[32m[I 2021-11-22 07:54:26,710]\u001b[0m Trial 61 finished with value: 0.5179187722547813 and parameters: {'boosting_type': 'Plain', 'bootstrap_type': 'Bernoulli', 'iterations': 10000, 'od_wait': 1246, 'random_strength': 11.29077225966216, 'learning_rate': 0.7544184055094013, 'reg_lambda': 54.8068068880185, 'subsample': 0.5886905126586024, 'depth': 10, 'min_data_in_leaf': 23, 'leaf_estimation_iterations': 15}. Best is trial 61 with value: 0.5179187722547813.\u001b[0m\n",
            "\u001b[32m[I 2021-11-22 07:54:28,025]\u001b[0m Trial 62 finished with value: 0.5194544842334744 and parameters: {'boosting_type': 'Plain', 'bootstrap_type': 'Bernoulli', 'iterations': 10000, 'od_wait': 1353, 'random_strength': 15.654505073741277, 'learning_rate': 0.8213814808325955, 'reg_lambda': 59.46995849494759, 'subsample': 0.5922377165969157, 'depth': 10, 'min_data_in_leaf': 26, 'leaf_estimation_iterations': 15}. Best is trial 61 with value: 0.5179187722547813.\u001b[0m\n",
            "\u001b[32m[I 2021-11-22 07:54:29,040]\u001b[0m Trial 63 finished with value: 0.5188545260456733 and parameters: {'boosting_type': 'Plain', 'bootstrap_type': 'Bernoulli', 'iterations': 10000, 'od_wait': 1273, 'random_strength': 36.353321138259496, 'learning_rate': 0.6724614895916734, 'reg_lambda': 45.848834621592594, 'subsample': 0.45602108560852683, 'depth': 10, 'min_data_in_leaf': 25, 'leaf_estimation_iterations': 12}. Best is trial 61 with value: 0.5179187722547813.\u001b[0m\n",
            "\u001b[32m[I 2021-11-22 07:54:30,169]\u001b[0m Trial 64 finished with value: 0.5195058582244516 and parameters: {'boosting_type': 'Plain', 'bootstrap_type': 'Bernoulli', 'iterations': 10000, 'od_wait': 1361, 'random_strength': 14.287234420936649, 'learning_rate': 0.7622880616707894, 'reg_lambda': 68.98030242274706, 'subsample': 0.677296157308876, 'depth': 10, 'min_data_in_leaf': 27, 'leaf_estimation_iterations': 14}. Best is trial 61 with value: 0.5179187722547813.\u001b[0m\n",
            "\u001b[32m[I 2021-11-22 07:54:31,293]\u001b[0m Trial 65 finished with value: 0.5203678462785535 and parameters: {'boosting_type': 'Plain', 'bootstrap_type': 'Bernoulli', 'iterations': 10000, 'od_wait': 1475, 'random_strength': 17.993429812736068, 'learning_rate': 0.9122513110184004, 'reg_lambda': 7.805047954494244, 'subsample': 0.521847096177688, 'depth': 10, 'min_data_in_leaf': 22, 'leaf_estimation_iterations': 15}. Best is trial 61 with value: 0.5179187722547813.\u001b[0m\n",
            "\u001b[32m[I 2021-11-22 07:54:31,960]\u001b[0m Trial 66 finished with value: 0.5200571738405868 and parameters: {'boosting_type': 'Plain', 'bootstrap_type': 'Bernoulli', 'iterations': 10000, 'od_wait': 1421, 'random_strength': 10.914133341271551, 'learning_rate': 0.45609954401460556, 'reg_lambda': 38.162806387609436, 'subsample': 0.6247629120736062, 'depth': 10, 'min_data_in_leaf': 10, 'leaf_estimation_iterations': 3}. Best is trial 61 with value: 0.5179187722547813.\u001b[0m\n",
            "\u001b[32m[I 2021-11-22 07:54:33,011]\u001b[0m Trial 67 finished with value: 0.5187960017058035 and parameters: {'boosting_type': 'Plain', 'bootstrap_type': 'Bernoulli', 'iterations': 10000, 'od_wait': 1212, 'random_strength': 12.20816058980026, 'learning_rate': 0.7149249876286647, 'reg_lambda': 49.16446602434796, 'subsample': 0.3717938100446839, 'depth': 9, 'min_data_in_leaf': 7, 'leaf_estimation_iterations': 13}. Best is trial 61 with value: 0.5179187722547813.\u001b[0m\n",
            "\u001b[32m[I 2021-11-22 07:54:33,531]\u001b[0m Trial 68 finished with value: 0.5182882111862586 and parameters: {'boosting_type': 'Plain', 'bootstrap_type': 'Bernoulli', 'iterations': 10000, 'od_wait': 1138, 'random_strength': 40.6538686811809, 'learning_rate': 0.8100443793021861, 'reg_lambda': 40.94161799516598, 'subsample': 0.45059649000532664, 'depth': 7, 'min_data_in_leaf': 21, 'leaf_estimation_iterations': 4}. Best is trial 61 with value: 0.5179187722547813.\u001b[0m\n",
            "\u001b[32m[I 2021-11-22 07:54:33,998]\u001b[0m Trial 69 finished with value: 0.519702846079195 and parameters: {'boosting_type': 'Plain', 'bootstrap_type': 'Bernoulli', 'iterations': 10000, 'od_wait': 1120, 'random_strength': 42.4884745927517, 'learning_rate': 0.7917138326750858, 'reg_lambda': 42.34867747680646, 'subsample': 0.32045198320176016, 'depth': 7, 'min_data_in_leaf': 21, 'leaf_estimation_iterations': 4}. Best is trial 61 with value: 0.5179187722547813.\u001b[0m\n",
            "\u001b[32m[I 2021-11-22 07:54:34,444]\u001b[0m Trial 70 finished with value: 0.5187149663159968 and parameters: {'boosting_type': 'Plain', 'bootstrap_type': 'Bernoulli', 'iterations': 10000, 'od_wait': 516, 'random_strength': 39.243265452066275, 'learning_rate': 0.871546309127994, 'reg_lambda': 56.76140320499687, 'subsample': 0.4409103053383329, 'depth': 4, 'min_data_in_leaf': 23, 'leaf_estimation_iterations': 5}. Best is trial 61 with value: 0.5179187722547813.\u001b[0m\n",
            "\u001b[32m[I 2021-11-22 07:54:35,007]\u001b[0m Trial 71 finished with value: 0.519623321516214 and parameters: {'boosting_type': 'Plain', 'bootstrap_type': 'Bernoulli', 'iterations': 10000, 'od_wait': 1156, 'random_strength': 41.07309896767277, 'learning_rate': 0.8333613390399232, 'reg_lambda': 26.869211540001047, 'subsample': 0.5272145756459541, 'depth': 6, 'min_data_in_leaf': 25, 'leaf_estimation_iterations': 6}. Best is trial 61 with value: 0.5179187722547813.\u001b[0m\n",
            "\u001b[32m[I 2021-11-22 07:54:35,644]\u001b[0m Trial 72 finished with value: 0.5183942675632147 and parameters: {'boosting_type': 'Plain', 'bootstrap_type': 'Bernoulli', 'iterations': 10000, 'od_wait': 1284, 'random_strength': 37.73004665483178, 'learning_rate': 0.7988434480677945, 'reg_lambda': 32.65809333779936, 'subsample': 0.4772863596454302, 'depth': 9, 'min_data_in_leaf': 9, 'leaf_estimation_iterations': 3}. Best is trial 61 with value: 0.5179187722547813.\u001b[0m\n",
            "\u001b[32m[I 2021-11-22 07:54:36,235]\u001b[0m Trial 73 finished with value: 0.5198364731175279 and parameters: {'boosting_type': 'Plain', 'bootstrap_type': 'Bernoulli', 'iterations': 10000, 'od_wait': 1279, 'random_strength': 33.49861810992769, 'learning_rate': 0.7999908656802116, 'reg_lambda': 33.16394929853726, 'subsample': 0.38516565008291054, 'depth': 10, 'min_data_in_leaf': 12, 'leaf_estimation_iterations': 2}. Best is trial 61 with value: 0.5179187722547813.\u001b[0m\n",
            "\u001b[32m[I 2021-11-22 07:54:36,842]\u001b[0m Trial 74 finished with value: 0.5187696305078004 and parameters: {'boosting_type': 'Plain', 'bootstrap_type': 'Bernoulli', 'iterations': 10000, 'od_wait': 1564, 'random_strength': 40.864480845875626, 'learning_rate': 0.7338197361067068, 'reg_lambda': 38.132878151009145, 'subsample': 0.48027628643729786, 'depth': 8, 'min_data_in_leaf': 20, 'leaf_estimation_iterations': 5}. Best is trial 61 with value: 0.5179187722547813.\u001b[0m\n",
            "\u001b[32m[I 2021-11-22 07:54:37,481]\u001b[0m Trial 75 finished with value: 0.51875076989408 and parameters: {'boosting_type': 'Plain', 'bootstrap_type': 'Bernoulli', 'iterations': 10000, 'od_wait': 1407, 'random_strength': 31.668836726287978, 'learning_rate': 0.7732198147656665, 'reg_lambda': 52.27035007677108, 'subsample': 0.8458023908404864, 'depth': 9, 'min_data_in_leaf': 14, 'leaf_estimation_iterations': 3}. Best is trial 61 with value: 0.5179187722547813.\u001b[0m\n",
            "\u001b[32m[I 2021-11-22 07:54:38,004]\u001b[0m Trial 76 finished with value: 0.5183835557291788 and parameters: {'boosting_type': 'Plain', 'bootstrap_type': 'Bernoulli', 'iterations': 10000, 'od_wait': 1314, 'random_strength': 34.76876145581355, 'learning_rate': 0.6950788009886074, 'reg_lambda': 46.41123154158395, 'subsample': 0.4509751322688204, 'depth': 7, 'min_data_in_leaf': 9, 'leaf_estimation_iterations': 4}. Best is trial 61 with value: 0.5179187722547813.\u001b[0m\n",
            "\u001b[32m[I 2021-11-22 07:54:38,427]\u001b[0m Trial 77 finished with value: 0.519085018169428 and parameters: {'boosting_type': 'Plain', 'bootstrap_type': 'Bernoulli', 'iterations': 10000, 'od_wait': 1329, 'random_strength': 35.18662901700712, 'learning_rate': 0.6533133051083891, 'reg_lambda': 0.03495819444184051, 'subsample': 0.4550597768650801, 'depth': 7, 'min_data_in_leaf': 9, 'leaf_estimation_iterations': 2}. Best is trial 61 with value: 0.5179187722547813.\u001b[0m\n",
            "\u001b[32m[I 2021-11-22 07:54:39,057]\u001b[0m Trial 78 finished with value: 0.5196184014629346 and parameters: {'boosting_type': 'Plain', 'bootstrap_type': 'Bernoulli', 'iterations': 10000, 'od_wait': 1024, 'random_strength': 37.45094058038121, 'learning_rate': 0.7077642143990309, 'reg_lambda': 45.58689778752632, 'subsample': 0.9985334616390373, 'depth': 8, 'min_data_in_leaf': 5, 'leaf_estimation_iterations': 4}. Best is trial 61 with value: 0.5179187722547813.\u001b[0m\n",
            "\u001b[32m[I 2021-11-22 07:54:39,720]\u001b[0m Trial 79 finished with value: 0.520216193351562 and parameters: {'boosting_type': 'Plain', 'bootstrap_type': 'Bernoulli', 'iterations': 10000, 'od_wait': 1226, 'random_strength': 39.85281496234886, 'learning_rate': 0.6038671123227484, 'reg_lambda': 40.476286493543135, 'subsample': 0.2936683353767456, 'depth': 10, 'min_data_in_leaf': 23, 'leaf_estimation_iterations': 4}. Best is trial 61 with value: 0.5179187722547813.\u001b[0m\n",
            "\u001b[32m[I 2021-11-22 07:54:40,550]\u001b[0m Trial 80 finished with value: 0.5183606916638799 and parameters: {'boosting_type': 'Plain', 'bootstrap_type': 'Bernoulli', 'iterations': 10000, 'od_wait': 1504, 'random_strength': 35.373527634473454, 'learning_rate': 0.6603143569852372, 'reg_lambda': 9.996390592846197, 'subsample': 0.942732168669298, 'depth': 9, 'min_data_in_leaf': 24, 'leaf_estimation_iterations': 3}. Best is trial 61 with value: 0.5179187722547813.\u001b[0m\n",
            "\u001b[32m[I 2021-11-22 07:54:41,190]\u001b[0m Trial 81 finished with value: 0.5195782907210653 and parameters: {'boosting_type': 'Plain', 'bootstrap_type': 'Bernoulli', 'iterations': 10000, 'od_wait': 1298, 'random_strength': 36.0970009281964, 'learning_rate': 0.6922449844195351, 'reg_lambda': 14.264187944487933, 'subsample': 0.9542645839710009, 'depth': 9, 'min_data_in_leaf': 24, 'leaf_estimation_iterations': 3}. Best is trial 61 with value: 0.5179187722547813.\u001b[0m\n",
            "\u001b[32m[I 2021-11-22 07:54:41,799]\u001b[0m Trial 82 finished with value: 0.5202547709141876 and parameters: {'boosting_type': 'Plain', 'bootstrap_type': 'Bernoulli', 'iterations': 10000, 'od_wait': 1520, 'random_strength': 33.78920129613028, 'learning_rate': 0.5418313511625071, 'reg_lambda': 9.39252329203636, 'subsample': 0.9215371880236105, 'depth': 9, 'min_data_in_leaf': 25, 'leaf_estimation_iterations': 2}. Best is trial 61 with value: 0.5179187722547813.\u001b[0m\n",
            "\u001b[32m[I 2021-11-22 07:54:42,531]\u001b[0m Trial 83 finished with value: 0.5186546542104036 and parameters: {'boosting_type': 'Plain', 'bootstrap_type': 'Bernoulli', 'iterations': 10000, 'od_wait': 1374, 'random_strength': 38.70366546782378, 'learning_rate': 0.6279254317244208, 'reg_lambda': 6.835626539917606, 'subsample': 0.9731833290344385, 'depth': 10, 'min_data_in_leaf': 20, 'leaf_estimation_iterations': 3}. Best is trial 61 with value: 0.5179187722547813.\u001b[0m\n",
            "\u001b[32m[I 2021-11-22 07:54:43,148]\u001b[0m Trial 84 finished with value: 0.5200971587968425 and parameters: {'boosting_type': 'Plain', 'bootstrap_type': 'Bernoulli', 'iterations': 10000, 'od_wait': 1425, 'random_strength': 37.213672154068824, 'learning_rate': 0.6667499745922024, 'reg_lambda': 3.7576062267617476, 'subsample': 0.8978237304806846, 'depth': 8, 'min_data_in_leaf': 22, 'leaf_estimation_iterations': 5}. Best is trial 61 with value: 0.5179187722547813.\u001b[0m\n",
            "\u001b[32m[I 2021-11-22 07:54:43,691]\u001b[0m Trial 85 finished with value: 0.5193146825263162 and parameters: {'boosting_type': 'Plain', 'bootstrap_type': 'Bernoulli', 'iterations': 10000, 'od_wait': 1494, 'random_strength': 35.10145332831867, 'learning_rate': 0.8081708214022113, 'reg_lambda': 48.130358690372205, 'subsample': 0.9391801335021088, 'depth': 9, 'min_data_in_leaf': 27, 'leaf_estimation_iterations': 1}. Best is trial 61 with value: 0.5179187722547813.\u001b[0m\n",
            "\u001b[32m[I 2021-11-22 07:54:44,407]\u001b[0m Trial 86 finished with value: 0.5189492298585402 and parameters: {'boosting_type': 'Plain', 'bootstrap_type': 'Bernoulli', 'iterations': 10000, 'od_wait': 1318, 'random_strength': 42.54970925829651, 'learning_rate': 0.7393127611180165, 'reg_lambda': 9.821550829366302, 'subsample': 0.7934904586309941, 'depth': 10, 'min_data_in_leaf': 24, 'leaf_estimation_iterations': 3}. Best is trial 61 with value: 0.5179187722547813.\u001b[0m\n",
            "\u001b[32m[I 2021-11-22 07:54:45,141]\u001b[0m Trial 87 finished with value: 0.5192494614519891 and parameters: {'boosting_type': 'Plain', 'bootstrap_type': 'Bernoulli', 'iterations': 10000, 'od_wait': 1605, 'random_strength': 37.82074140241109, 'learning_rate': 0.8619815155216679, 'reg_lambda': 14.216191861201846, 'subsample': 0.8595339517926309, 'depth': 9, 'min_data_in_leaf': 8, 'leaf_estimation_iterations': 4}. Best is trial 61 with value: 0.5179187722547813.\u001b[0m\n",
            "\u001b[32m[I 2021-11-22 07:54:45,720]\u001b[0m Trial 88 finished with value: 0.5190082361021047 and parameters: {'boosting_type': 'Plain', 'bootstrap_type': 'Bernoulli', 'iterations': 10000, 'od_wait': 1666, 'random_strength': 32.93835110681326, 'learning_rate': 0.7641876502500555, 'reg_lambda': 19.294636391320275, 'subsample': 0.24247729654367423, 'depth': 7, 'min_data_in_leaf': 9, 'leaf_estimation_iterations': 5}. Best is trial 61 with value: 0.5179187722547813.\u001b[0m\n",
            "\u001b[32m[I 2021-11-22 07:54:46,365]\u001b[0m Trial 89 finished with value: 0.519858335944581 and parameters: {'boosting_type': 'Plain', 'bootstrap_type': 'Bernoulli', 'iterations': 10000, 'od_wait': 616, 'random_strength': 44.45705646692915, 'learning_rate': 0.1771577759226079, 'reg_lambda': 2.265372970663509, 'subsample': 0.4011435269433192, 'depth': 10, 'min_data_in_leaf': 10, 'leaf_estimation_iterations': 4}. Best is trial 61 with value: 0.5179187722547813.\u001b[0m\n",
            "\u001b[32m[I 2021-11-22 07:54:47,071]\u001b[0m Trial 90 finished with value: 0.5182609849677475 and parameters: {'boosting_type': 'Plain', 'bootstrap_type': 'Bernoulli', 'iterations': 10000, 'od_wait': 862, 'random_strength': 29.434263769687618, 'learning_rate': 0.8351771574060812, 'reg_lambda': 17.489259389574656, 'subsample': 0.9736842680094911, 'depth': 9, 'min_data_in_leaf': 6, 'leaf_estimation_iterations': 3}. Best is trial 61 with value: 0.5179187722547813.\u001b[0m\n",
            "\u001b[32m[I 2021-11-22 07:54:47,774]\u001b[0m Trial 91 finished with value: 0.5189686534403897 and parameters: {'boosting_type': 'Plain', 'bootstrap_type': 'Bernoulli', 'iterations': 10000, 'od_wait': 1180, 'random_strength': 40.23351747776209, 'learning_rate': 0.7345573576737422, 'reg_lambda': 5.669689701500826, 'subsample': 0.9823235089259367, 'depth': 9, 'min_data_in_leaf': 6, 'leaf_estimation_iterations': 3}. Best is trial 61 with value: 0.5179187722547813.\u001b[0m\n",
            "\u001b[32m[I 2021-11-22 07:54:48,320]\u001b[0m Trial 92 finished with value: 0.518520070327888 and parameters: {'boosting_type': 'Plain', 'bootstrap_type': 'Bernoulli', 'iterations': 10000, 'od_wait': 754, 'random_strength': 29.243166825804444, 'learning_rate': 0.8307521408256009, 'reg_lambda': 11.994861600427786, 'subsample': 0.9136975655866033, 'depth': 8, 'min_data_in_leaf': 13, 'leaf_estimation_iterations': 2}. Best is trial 61 with value: 0.5179187722547813.\u001b[0m\n",
            "\u001b[32m[I 2021-11-22 07:54:49,332]\u001b[0m Trial 93 finished with value: 0.5180712247560423 and parameters: {'boosting_type': 'Plain', 'bootstrap_type': 'Bernoulli', 'iterations': 10000, 'od_wait': 886, 'random_strength': 27.657851355993444, 'learning_rate': 0.7909920731400346, 'reg_lambda': 30.85810997745325, 'subsample': 0.9519756144294564, 'depth': 10, 'min_data_in_leaf': 4, 'leaf_estimation_iterations': 6}. Best is trial 61 with value: 0.5179187722547813.\u001b[0m\n",
            "\u001b[32m[I 2021-11-22 07:54:50,253]\u001b[0m Trial 94 finished with value: 0.5197376437862248 and parameters: {'boosting_type': 'Plain', 'bootstrap_type': 'Bernoulli', 'iterations': 10000, 'od_wait': 843, 'random_strength': 27.97899856132068, 'learning_rate': 0.687567609629343, 'reg_lambda': 24.12640643021464, 'subsample': 0.9579478834591576, 'depth': 10, 'min_data_in_leaf': 2, 'leaf_estimation_iterations': 6}. Best is trial 61 with value: 0.5179187722547813.\u001b[0m\n",
            "\u001b[32m[I 2021-11-22 07:54:51,209]\u001b[0m Trial 95 finished with value: 0.5179328885934517 and parameters: {'boosting_type': 'Plain', 'bootstrap_type': 'Bernoulli', 'iterations': 10000, 'od_wait': 887, 'random_strength': 25.679777135606905, 'learning_rate': 0.7796037887440138, 'reg_lambda': 22.21476782402113, 'subsample': 0.9343164357483567, 'depth': 10, 'min_data_in_leaf': 3, 'leaf_estimation_iterations': 6}. Best is trial 61 with value: 0.5179187722547813.\u001b[0m\n",
            "\u001b[32m[I 2021-11-22 07:54:52,123]\u001b[0m Trial 96 finished with value: 0.519099230664511 and parameters: {'boosting_type': 'Plain', 'bootstrap_type': 'Bernoulli', 'iterations': 10000, 'od_wait': 916, 'random_strength': 25.127239294079416, 'learning_rate': 0.9502425777749828, 'reg_lambda': 17.501989582502855, 'subsample': 0.8874187800160617, 'depth': 10, 'min_data_in_leaf': 4, 'leaf_estimation_iterations': 7}. Best is trial 61 with value: 0.5179187722547813.\u001b[0m\n",
            "\u001b[32m[I 2021-11-22 07:54:53,052]\u001b[0m Trial 97 finished with value: 0.5194176082338744 and parameters: {'boosting_type': 'Plain', 'bootstrap_type': 'Bernoulli', 'iterations': 10000, 'od_wait': 938, 'random_strength': 25.853492619935643, 'learning_rate': 0.8427882375836139, 'reg_lambda': 16.06446170404398, 'subsample': 0.8374676697139826, 'depth': 10, 'min_data_in_leaf': 1, 'leaf_estimation_iterations': 8}. Best is trial 61 with value: 0.5179187722547813.\u001b[0m\n",
            "\u001b[32m[I 2021-11-22 07:54:53,949]\u001b[0m Trial 98 finished with value: 0.5198241376810295 and parameters: {'boosting_type': 'Plain', 'bootstrap_type': 'Bernoulli', 'iterations': 10000, 'od_wait': 815, 'random_strength': 30.56223391517441, 'learning_rate': 0.7720825893562544, 'reg_lambda': 30.78780037568621, 'subsample': 0.9359708245717536, 'depth': 10, 'min_data_in_leaf': 3, 'leaf_estimation_iterations': 7}. Best is trial 61 with value: 0.5179187722547813.\u001b[0m\n",
            "\u001b[32m[I 2021-11-22 07:54:54,427]\u001b[0m Trial 99 finished with value: 0.5187873746875008 and parameters: {'boosting_type': 'Plain', 'bootstrap_type': 'Bernoulli', 'iterations': 10000, 'od_wait': 673, 'random_strength': 22.371137831269706, 'learning_rate': 0.779667575975846, 'reg_lambda': 18.10634213141952, 'subsample': 0.8745520062204002, 'depth': 2, 'min_data_in_leaf': 2, 'leaf_estimation_iterations': 6}. Best is trial 61 with value: 0.5179187722547813.\u001b[0m\n"
          ]
        }
      ]
    },
    {
      "cell_type": "code",
      "metadata": {
        "colab": {
          "base_uri": "https://localhost:8080/"
        },
        "id": "cNvd5O2nmsZE",
        "outputId": "9eabd408-5d58-4b17-9030-59cfe9fa962f"
      },
      "source": [
        "print('Number of finished trials:', len(study.trials))\n",
        "print('Best trial:', study.best_trial.params)"
      ],
      "execution_count": null,
      "outputs": [
        {
          "output_type": "stream",
          "name": "stdout",
          "text": [
            "Number of finished trials: 100\n",
            "Best trial: {'boosting_type': 'Plain', 'bootstrap_type': 'Bernoulli', 'iterations': 10000, 'od_wait': 1246, 'random_strength': 11.29077225966216, 'learning_rate': 0.7544184055094013, 'reg_lambda': 54.8068068880185, 'subsample': 0.5886905126586024, 'depth': 10, 'min_data_in_leaf': 23, 'leaf_estimation_iterations': 15}\n"
          ]
        }
      ]
    },
    {
      "cell_type": "code",
      "metadata": {
        "colab": {
          "base_uri": "https://localhost:8080/"
        },
        "id": "uh2swT3EoqIc",
        "outputId": "e1cc88c9-0eff-4628-f920-c214760994ec"
      },
      "source": [
        "cb_params = study.best_trial.params\n",
        "cb_params"
      ],
      "execution_count": null,
      "outputs": [
        {
          "output_type": "execute_result",
          "data": {
            "text/plain": [
              "{'boosting_type': 'Plain',\n",
              " 'bootstrap_type': 'Bernoulli',\n",
              " 'depth': 10,\n",
              " 'iterations': 10000,\n",
              " 'leaf_estimation_iterations': 15,\n",
              " 'learning_rate': 0.7544184055094013,\n",
              " 'min_data_in_leaf': 23,\n",
              " 'od_wait': 1246,\n",
              " 'random_strength': 11.29077225966216,\n",
              " 'reg_lambda': 54.8068068880185,\n",
              " 'subsample': 0.5886905126586024}"
            ]
          },
          "metadata": {},
          "execution_count": 111
        }
      ]
    },
    {
      "cell_type": "markdown",
      "metadata": {
        "id": "H0_F5zsDk5rz"
      },
      "source": [
        "### LGBM"
      ]
    },
    {
      "cell_type": "code",
      "metadata": {
        "id": "pEWvRM-skzgp"
      },
      "source": [
        "#lgbm\n",
        "def objective(trial):\n",
        "    params = {\n",
        "        #\"device_type\": trial.suggest_categorical(\"device_type\", ['gpu']),\n",
        "        'objective': trial.suggest_categorical('objective',['regression','rmse']),#'multiclass','binary']),  \n",
        "        \"n_estimators\": trial.suggest_categorical(\"n_estimators\", [10000]),\n",
        "        \"learning_rate\": trial.suggest_float(\"learning_rate\", 0.01, 0.3),\n",
        "        \"num_leaves\": trial.suggest_int(\"num_leaves\", 20, 3000, step=20),\n",
        "        \"max_depth\": trial.suggest_int(\"max_depth\", 3, 12),\n",
        "        \"min_data_in_leaf\": trial.suggest_int(\"min_data_in_leaf\", 200, 10000, step=100),\n",
        "        \"lambda_l1\": trial.suggest_int(\"lambda_l1\", 0, 100, step=5),\n",
        "        \"lambda_l2\": trial.suggest_int(\"lambda_l2\", 0, 100, step=5),\n",
        "        \"min_gain_to_split\": trial.suggest_float(\"min_gain_to_split\", 0, 15),\n",
        "        \"bagging_fraction\": trial.suggest_float(\"bagging_fraction\", 0.2, 0.95, step=0.1),\n",
        "        \"bagging_freq\": trial.suggest_categorical(\"bagging_freq\", [1]),\n",
        "        \"feature_fraction\": trial.suggest_float(\"feature_fraction\", 0.2, 0.95, step=0.1),\n",
        "    }\n",
        "    model = LGBMRegressor(**params)  \n",
        "    model.fit(x_train[col],y_train,eval_set=[(x_val[col],y_val)],verbose=False,early_stopping_rounds=100) \n",
        "              \n",
        "    y_preds = model.predict(x_val[col])   \n",
        "    rmsle = mean_squared_log_error(y_val, y_preds,squared=False)\n",
        "\n",
        "    return rmsle"
      ],
      "execution_count": null,
      "outputs": []
    },
    {
      "cell_type": "code",
      "metadata": {
        "colab": {
          "base_uri": "https://localhost:8080/"
        },
        "id": "i23PobWwk0uU",
        "outputId": "666b0135-7d5e-45bf-b2f4-bb45c8fb6909"
      },
      "source": [
        "study = optuna.create_study(direction='minimize')\n",
        "study.optimize(objective, n_trials=100)"
      ],
      "execution_count": null,
      "outputs": [
        {
          "output_type": "stream",
          "name": "stderr",
          "text": [
            "\u001b[32m[I 2021-11-22 07:52:20,438]\u001b[0m A new study created in memory with name: no-name-5d8019d4-bf8b-4952-a089-6b5aed067d24\u001b[0m\n",
            "\u001b[32m[I 2021-11-22 07:52:20,511]\u001b[0m Trial 0 finished with value: 0.5407590847247465 and parameters: {'objective': 'rmse', 'n_estimators': 10000, 'learning_rate': 0.11110043449160592, 'num_leaves': 2140, 'max_depth': 3, 'min_data_in_leaf': 5300, 'lambda_l1': 50, 'lambda_l2': 30, 'min_gain_to_split': 7.509846941877318, 'bagging_fraction': 0.2, 'bagging_freq': 1, 'feature_fraction': 0.6000000000000001}. Best is trial 0 with value: 0.5407590847247465.\u001b[0m\n",
            "\u001b[32m[I 2021-11-22 07:52:20,672]\u001b[0m Trial 1 finished with value: 0.5196052788137597 and parameters: {'objective': 'rmse', 'n_estimators': 10000, 'learning_rate': 0.08170442538779904, 'num_leaves': 840, 'max_depth': 4, 'min_data_in_leaf': 2900, 'lambda_l1': 15, 'lambda_l2': 55, 'min_gain_to_split': 11.194083279808188, 'bagging_fraction': 0.9, 'bagging_freq': 1, 'feature_fraction': 0.6000000000000001}. Best is trial 1 with value: 0.5196052788137597.\u001b[0m\n",
            "\u001b[32m[I 2021-11-22 07:52:20,746]\u001b[0m Trial 2 finished with value: 0.5407590847247465 and parameters: {'objective': 'rmse', 'n_estimators': 10000, 'learning_rate': 0.028872212401969098, 'num_leaves': 2280, 'max_depth': 4, 'min_data_in_leaf': 6800, 'lambda_l1': 60, 'lambda_l2': 20, 'min_gain_to_split': 14.112321853432634, 'bagging_fraction': 0.5, 'bagging_freq': 1, 'feature_fraction': 0.8}. Best is trial 1 with value: 0.5196052788137597.\u001b[0m\n",
            "\u001b[32m[I 2021-11-22 07:52:20,808]\u001b[0m Trial 3 finished with value: 0.5407590847247465 and parameters: {'objective': 'rmse', 'n_estimators': 10000, 'learning_rate': 0.18001070496093105, 'num_leaves': 680, 'max_depth': 11, 'min_data_in_leaf': 7100, 'lambda_l1': 50, 'lambda_l2': 85, 'min_gain_to_split': 14.304728877966141, 'bagging_fraction': 0.4, 'bagging_freq': 1, 'feature_fraction': 0.2}. Best is trial 1 with value: 0.5196052788137597.\u001b[0m\n",
            "\u001b[32m[I 2021-11-22 07:52:20,866]\u001b[0m Trial 4 finished with value: 0.5407590847247465 and parameters: {'objective': 'regression', 'n_estimators': 10000, 'learning_rate': 0.22011994432313103, 'num_leaves': 460, 'max_depth': 7, 'min_data_in_leaf': 7900, 'lambda_l1': 45, 'lambda_l2': 90, 'min_gain_to_split': 7.048583097539284, 'bagging_fraction': 0.8, 'bagging_freq': 1, 'feature_fraction': 0.8}. Best is trial 1 with value: 0.5196052788137597.\u001b[0m\n",
            "\u001b[32m[I 2021-11-22 07:52:20,926]\u001b[0m Trial 5 finished with value: 0.5407590847247465 and parameters: {'objective': 'regression', 'n_estimators': 10000, 'learning_rate': 0.19425010781577615, 'num_leaves': 2940, 'max_depth': 4, 'min_data_in_leaf': 7800, 'lambda_l1': 55, 'lambda_l2': 90, 'min_gain_to_split': 11.472041051700204, 'bagging_fraction': 0.8, 'bagging_freq': 1, 'feature_fraction': 0.6000000000000001}. Best is trial 1 with value: 0.5196052788137597.\u001b[0m\n",
            "\u001b[32m[I 2021-11-22 07:52:20,988]\u001b[0m Trial 6 finished with value: 0.5407590847247465 and parameters: {'objective': 'rmse', 'n_estimators': 10000, 'learning_rate': 0.19022202562671092, 'num_leaves': 2860, 'max_depth': 12, 'min_data_in_leaf': 7300, 'lambda_l1': 0, 'lambda_l2': 90, 'min_gain_to_split': 8.192129374179626, 'bagging_fraction': 0.8, 'bagging_freq': 1, 'feature_fraction': 0.6000000000000001}. Best is trial 1 with value: 0.5196052788137597.\u001b[0m\n",
            "\u001b[32m[I 2021-11-22 07:52:21,052]\u001b[0m Trial 7 finished with value: 0.5407590847247465 and parameters: {'objective': 'regression', 'n_estimators': 10000, 'learning_rate': 0.10823977491658808, 'num_leaves': 1180, 'max_depth': 8, 'min_data_in_leaf': 2400, 'lambda_l1': 5, 'lambda_l2': 55, 'min_gain_to_split': 12.81174836838684, 'bagging_fraction': 0.4, 'bagging_freq': 1, 'feature_fraction': 0.5}. Best is trial 1 with value: 0.5196052788137597.\u001b[0m\n",
            "\u001b[32m[I 2021-11-22 07:52:21,198]\u001b[0m Trial 8 finished with value: 0.5215115136723852 and parameters: {'objective': 'rmse', 'n_estimators': 10000, 'learning_rate': 0.08320841606301481, 'num_leaves': 680, 'max_depth': 7, 'min_data_in_leaf': 1600, 'lambda_l1': 35, 'lambda_l2': 50, 'min_gain_to_split': 9.120196283347157, 'bagging_fraction': 0.5, 'bagging_freq': 1, 'feature_fraction': 0.7}. Best is trial 1 with value: 0.5196052788137597.\u001b[0m\n",
            "\u001b[32m[I 2021-11-22 07:52:21,334]\u001b[0m Trial 9 finished with value: 0.5190604544512202 and parameters: {'objective': 'rmse', 'n_estimators': 10000, 'learning_rate': 0.18106433459002802, 'num_leaves': 280, 'max_depth': 7, 'min_data_in_leaf': 2800, 'lambda_l1': 35, 'lambda_l2': 65, 'min_gain_to_split': 8.683800978630451, 'bagging_fraction': 0.7, 'bagging_freq': 1, 'feature_fraction': 0.5}. Best is trial 9 with value: 0.5190604544512202.\u001b[0m\n",
            "\u001b[32m[I 2021-11-22 07:52:21,470]\u001b[0m Trial 10 finished with value: 0.5188514890255532 and parameters: {'objective': 'regression', 'n_estimators': 10000, 'learning_rate': 0.29476582550263153, 'num_leaves': 100, 'max_depth': 9, 'min_data_in_leaf': 500, 'lambda_l1': 85, 'lambda_l2': 70, 'min_gain_to_split': 2.367993909376728, 'bagging_fraction': 0.7, 'bagging_freq': 1, 'feature_fraction': 0.30000000000000004}. Best is trial 10 with value: 0.5188514890255532.\u001b[0m\n",
            "\u001b[32m[I 2021-11-22 07:52:21,580]\u001b[0m Trial 11 finished with value: 0.519122527993687 and parameters: {'objective': 'regression', 'n_estimators': 10000, 'learning_rate': 0.2902591474360375, 'num_leaves': 40, 'max_depth': 9, 'min_data_in_leaf': 400, 'lambda_l1': 90, 'lambda_l2': 70, 'min_gain_to_split': 1.9971971849327608, 'bagging_fraction': 0.7, 'bagging_freq': 1, 'feature_fraction': 0.30000000000000004}. Best is trial 10 with value: 0.5188514890255532.\u001b[0m\n",
            "\u001b[32m[I 2021-11-22 07:52:21,645]\u001b[0m Trial 12 finished with value: 0.5407590847247465 and parameters: {'objective': 'regression', 'n_estimators': 10000, 'learning_rate': 0.29853691637387364, 'num_leaves': 100, 'max_depth': 10, 'min_data_in_leaf': 4200, 'lambda_l1': 90, 'lambda_l2': 70, 'min_gain_to_split': 3.1115722369395336, 'bagging_fraction': 0.6000000000000001, 'bagging_freq': 1, 'feature_fraction': 0.4}. Best is trial 10 with value: 0.5188514890255532.\u001b[0m\n",
            "\u001b[32m[I 2021-11-22 07:52:21,767]\u001b[0m Trial 13 finished with value: 0.5193149438407146 and parameters: {'objective': 'regression', 'n_estimators': 10000, 'learning_rate': 0.2416186263640021, 'num_leaves': 1420, 'max_depth': 6, 'min_data_in_leaf': 200, 'lambda_l1': 70, 'lambda_l2': 40, 'min_gain_to_split': 4.505748617932455, 'bagging_fraction': 0.7, 'bagging_freq': 1, 'feature_fraction': 0.4}. Best is trial 10 with value: 0.5188514890255532.\u001b[0m\n",
            "\u001b[32m[I 2021-11-22 07:52:21,835]\u001b[0m Trial 14 finished with value: 0.5407590847247465 and parameters: {'objective': 'regression', 'n_estimators': 10000, 'learning_rate': 0.2556792002115174, 'num_leaves': 240, 'max_depth': 9, 'min_data_in_leaf': 3500, 'lambda_l1': 25, 'lambda_l2': 5, 'min_gain_to_split': 0.5666136017762429, 'bagging_fraction': 0.6000000000000001, 'bagging_freq': 1, 'feature_fraction': 0.2}. Best is trial 10 with value: 0.5188514890255532.\u001b[0m\n",
            "\u001b[32m[I 2021-11-22 07:52:21,967]\u001b[0m Trial 15 finished with value: 0.5201986350204253 and parameters: {'objective': 'rmse', 'n_estimators': 10000, 'learning_rate': 0.14003736801546462, 'num_leaves': 1080, 'max_depth': 6, 'min_data_in_leaf': 1500, 'lambda_l1': 100, 'lambda_l2': 70, 'min_gain_to_split': 5.402860214424447, 'bagging_fraction': 0.9, 'bagging_freq': 1, 'feature_fraction': 0.4}. Best is trial 10 with value: 0.5188514890255532.\u001b[0m\n",
            "\u001b[32m[I 2021-11-22 07:52:22,033]\u001b[0m Trial 16 finished with value: 0.5407590847247465 and parameters: {'objective': 'rmse', 'n_estimators': 10000, 'learning_rate': 0.26437908205450844, 'num_leaves': 2060, 'max_depth': 9, 'min_data_in_leaf': 5000, 'lambda_l1': 75, 'lambda_l2': 75, 'min_gain_to_split': 9.714588526055245, 'bagging_fraction': 0.7, 'bagging_freq': 1, 'feature_fraction': 0.30000000000000004}. Best is trial 10 with value: 0.5188514890255532.\u001b[0m\n",
            "\u001b[32m[I 2021-11-22 07:52:22,097]\u001b[0m Trial 17 finished with value: 0.5407590847247465 and parameters: {'objective': 'regression', 'n_estimators': 10000, 'learning_rate': 0.15429538478145777, 'num_leaves': 1680, 'max_depth': 6, 'min_data_in_leaf': 10000, 'lambda_l1': 35, 'lambda_l2': 60, 'min_gain_to_split': 5.575750284327407, 'bagging_fraction': 0.2, 'bagging_freq': 1, 'feature_fraction': 0.9}. Best is trial 10 with value: 0.5188514890255532.\u001b[0m\n",
            "\u001b[32m[I 2021-11-22 07:52:22,258]\u001b[0m Trial 18 finished with value: 0.5190515120441044 and parameters: {'objective': 'rmse', 'n_estimators': 10000, 'learning_rate': 0.23133677827003657, 'num_leaves': 400, 'max_depth': 8, 'min_data_in_leaf': 1400, 'lambda_l1': 75, 'lambda_l2': 100, 'min_gain_to_split': 0.353728028023923, 'bagging_fraction': 0.6000000000000001, 'bagging_freq': 1, 'feature_fraction': 0.5}. Best is trial 10 with value: 0.5188514890255532.\u001b[0m\n",
            "\u001b[32m[I 2021-11-22 07:52:22,410]\u001b[0m Trial 19 finished with value: 0.5190312337018468 and parameters: {'objective': 'regression', 'n_estimators': 10000, 'learning_rate': 0.2218661200106401, 'num_leaves': 840, 'max_depth': 11, 'min_data_in_leaf': 1400, 'lambda_l1': 75, 'lambda_l2': 100, 'min_gain_to_split': 1.242840914664389, 'bagging_fraction': 0.4, 'bagging_freq': 1, 'feature_fraction': 0.30000000000000004}. Best is trial 10 with value: 0.5188514890255532.\u001b[0m\n",
            "\u001b[32m[I 2021-11-22 07:52:22,516]\u001b[0m Trial 20 finished with value: 0.5198057919020158 and parameters: {'objective': 'regression', 'n_estimators': 10000, 'learning_rate': 0.2722218482034784, 'num_leaves': 1080, 'max_depth': 12, 'min_data_in_leaf': 1000, 'lambda_l1': 85, 'lambda_l2': 100, 'min_gain_to_split': 2.585851873378447, 'bagging_fraction': 0.30000000000000004, 'bagging_freq': 1, 'feature_fraction': 0.30000000000000004}. Best is trial 10 with value: 0.5188514890255532.\u001b[0m\n",
            "\u001b[32m[I 2021-11-22 07:52:22,658]\u001b[0m Trial 21 finished with value: 0.5195399253177879 and parameters: {'objective': 'regression', 'n_estimators': 10000, 'learning_rate': 0.22460906207646833, 'num_leaves': 480, 'max_depth': 10, 'min_data_in_leaf': 2000, 'lambda_l1': 70, 'lambda_l2': 100, 'min_gain_to_split': 0.2563237141938335, 'bagging_fraction': 0.5, 'bagging_freq': 1, 'feature_fraction': 0.2}. Best is trial 10 with value: 0.5188514890255532.\u001b[0m\n",
            "\u001b[32m[I 2021-11-22 07:52:22,769]\u001b[0m Trial 22 finished with value: 0.520772345994695 and parameters: {'objective': 'regression', 'n_estimators': 10000, 'learning_rate': 0.2232209497169417, 'num_leaves': 460, 'max_depth': 11, 'min_data_in_leaf': 1000, 'lambda_l1': 80, 'lambda_l2': 80, 'min_gain_to_split': 1.4612084036002106, 'bagging_fraction': 0.4, 'bagging_freq': 1, 'feature_fraction': 0.4}. Best is trial 10 with value: 0.5188514890255532.\u001b[0m\n",
            "\u001b[32m[I 2021-11-22 07:52:22,840]\u001b[0m Trial 23 finished with value: 0.5407590847247465 and parameters: {'objective': 'regression', 'n_estimators': 10000, 'learning_rate': 0.23970488189717282, 'num_leaves': 800, 'max_depth': 10, 'min_data_in_leaf': 3600, 'lambda_l1': 65, 'lambda_l2': 95, 'min_gain_to_split': 3.756840159032838, 'bagging_fraction': 0.6000000000000001, 'bagging_freq': 1, 'feature_fraction': 0.30000000000000004}. Best is trial 10 with value: 0.5188514890255532.\u001b[0m\n",
            "\u001b[32m[I 2021-11-22 07:52:22,971]\u001b[0m Trial 24 finished with value: 0.5186579134884088 and parameters: {'objective': 'regression', 'n_estimators': 10000, 'learning_rate': 0.2774316935576618, 'num_leaves': 320, 'max_depth': 8, 'min_data_in_leaf': 200, 'lambda_l1': 100, 'lambda_l2': 80, 'min_gain_to_split': 1.3177901299187722, 'bagging_fraction': 0.30000000000000004, 'bagging_freq': 1, 'feature_fraction': 0.5}. Best is trial 24 with value: 0.5186579134884088.\u001b[0m\n",
            "\u001b[32m[I 2021-11-22 07:52:23,092]\u001b[0m Trial 25 finished with value: 0.5185887940157675 and parameters: {'objective': 'regression', 'n_estimators': 10000, 'learning_rate': 0.27794953348968576, 'num_leaves': 80, 'max_depth': 11, 'min_data_in_leaf': 400, 'lambda_l1': 100, 'lambda_l2': 80, 'min_gain_to_split': 1.7258563494855945, 'bagging_fraction': 0.30000000000000004, 'bagging_freq': 1, 'feature_fraction': 0.30000000000000004}. Best is trial 25 with value: 0.5185887940157675.\u001b[0m\n",
            "\u001b[32m[I 2021-11-22 07:52:23,228]\u001b[0m Trial 26 finished with value: 0.518758455688236 and parameters: {'objective': 'regression', 'n_estimators': 10000, 'learning_rate': 0.28005814070275636, 'num_leaves': 40, 'max_depth': 9, 'min_data_in_leaf': 200, 'lambda_l1': 100, 'lambda_l2': 80, 'min_gain_to_split': 3.573070151299462, 'bagging_fraction': 0.30000000000000004, 'bagging_freq': 1, 'feature_fraction': 0.4}. Best is trial 25 with value: 0.5185887940157675.\u001b[0m\n",
            "\u001b[32m[I 2021-11-22 07:52:23,339]\u001b[0m Trial 27 finished with value: 0.51986331584878 and parameters: {'objective': 'regression', 'n_estimators': 10000, 'learning_rate': 0.27649186282219446, 'num_leaves': 40, 'max_depth': 8, 'min_data_in_leaf': 600, 'lambda_l1': 100, 'lambda_l2': 80, 'min_gain_to_split': 3.8517409536168294, 'bagging_fraction': 0.30000000000000004, 'bagging_freq': 1, 'feature_fraction': 0.5}. Best is trial 25 with value: 0.5185887940157675.\u001b[0m\n",
            "\u001b[32m[I 2021-11-22 07:52:23,422]\u001b[0m Trial 28 finished with value: 0.5407590847247465 and parameters: {'objective': 'regression', 'n_estimators': 10000, 'learning_rate': 0.2579368065101692, 'num_leaves': 280, 'max_depth': 10, 'min_data_in_leaf': 2200, 'lambda_l1': 100, 'lambda_l2': 45, 'min_gain_to_split': 5.666568682775186, 'bagging_fraction': 0.30000000000000004, 'bagging_freq': 1, 'feature_fraction': 0.4}. Best is trial 25 with value: 0.5185887940157675.\u001b[0m\n",
            "\u001b[32m[I 2021-11-22 07:52:23,498]\u001b[0m Trial 29 finished with value: 0.5407590847247465 and parameters: {'objective': 'regression', 'n_estimators': 10000, 'learning_rate': 0.27642573311686636, 'num_leaves': 560, 'max_depth': 11, 'min_data_in_leaf': 5100, 'lambda_l1': 95, 'lambda_l2': 80, 'min_gain_to_split': 6.449488669204476, 'bagging_fraction': 0.2, 'bagging_freq': 1, 'feature_fraction': 0.7}. Best is trial 25 with value: 0.5185887940157675.\u001b[0m\n",
            "\u001b[32m[I 2021-11-22 07:52:23,566]\u001b[0m Trial 30 finished with value: 0.5407590847247465 and parameters: {'objective': 'regression', 'n_estimators': 10000, 'learning_rate': 0.027023901696044295, 'num_leaves': 1720, 'max_depth': 12, 'min_data_in_leaf': 6200, 'lambda_l1': 90, 'lambda_l2': 30, 'min_gain_to_split': 3.5291887293047868, 'bagging_fraction': 0.2, 'bagging_freq': 1, 'feature_fraction': 0.5}. Best is trial 25 with value: 0.5185887940157675.\u001b[0m\n",
            "\u001b[32m[I 2021-11-22 07:52:23,692]\u001b[0m Trial 31 finished with value: 0.5185614024773555 and parameters: {'objective': 'regression', 'n_estimators': 10000, 'learning_rate': 0.29713788123351326, 'num_leaves': 180, 'max_depth': 9, 'min_data_in_leaf': 200, 'lambda_l1': 85, 'lambda_l2': 65, 'min_gain_to_split': 2.37788149093947, 'bagging_fraction': 0.30000000000000004, 'bagging_freq': 1, 'feature_fraction': 0.4}. Best is trial 31 with value: 0.5185614024773555.\u001b[0m\n",
            "\u001b[32m[I 2021-11-22 07:52:23,813]\u001b[0m Trial 32 finished with value: 0.5201332741384944 and parameters: {'objective': 'regression', 'n_estimators': 10000, 'learning_rate': 0.25187681994221817, 'num_leaves': 280, 'max_depth': 8, 'min_data_in_leaf': 900, 'lambda_l1': 95, 'lambda_l2': 60, 'min_gain_to_split': 1.3593573136371182, 'bagging_fraction': 0.30000000000000004, 'bagging_freq': 1, 'feature_fraction': 0.4}. Best is trial 31 with value: 0.5185614024773555.\u001b[0m\n",
            "\u001b[32m[I 2021-11-22 07:52:23,950]\u001b[0m Trial 33 finished with value: 0.5187093916705643 and parameters: {'objective': 'regression', 'n_estimators': 10000, 'learning_rate': 0.28840281972027093, 'num_leaves': 20, 'max_depth': 9, 'min_data_in_leaf': 200, 'lambda_l1': 100, 'lambda_l2': 85, 'min_gain_to_split': 4.766537444209078, 'bagging_fraction': 0.30000000000000004, 'bagging_freq': 1, 'feature_fraction': 0.4}. Best is trial 31 with value: 0.5185614024773555.\u001b[0m\n",
            "\u001b[32m[I 2021-11-22 07:52:24,019]\u001b[0m Trial 34 finished with value: 0.5407590847247465 and parameters: {'objective': 'regression', 'n_estimators': 10000, 'learning_rate': 0.2994001987469561, 'num_leaves': 640, 'max_depth': 10, 'min_data_in_leaf': 1900, 'lambda_l1': 85, 'lambda_l2': 85, 'min_gain_to_split': 4.724705306281967, 'bagging_fraction': 0.2, 'bagging_freq': 1, 'feature_fraction': 0.5}. Best is trial 31 with value: 0.5185614024773555.\u001b[0m\n",
            "\u001b[32m[I 2021-11-22 07:52:24,090]\u001b[0m Trial 35 finished with value: 0.5407590847247465 and parameters: {'objective': 'regression', 'n_estimators': 10000, 'learning_rate': 0.28211021236154427, 'num_leaves': 260, 'max_depth': 7, 'min_data_in_leaf': 2800, 'lambda_l1': 95, 'lambda_l2': 60, 'min_gain_to_split': 2.3987093208841275, 'bagging_fraction': 0.4, 'bagging_freq': 1, 'feature_fraction': 0.2}. Best is trial 31 with value: 0.5185614024773555.\u001b[0m\n",
            "\u001b[32m[I 2021-11-22 07:52:24,223]\u001b[0m Trial 36 finished with value: 0.5214317226508266 and parameters: {'objective': 'regression', 'n_estimators': 10000, 'learning_rate': 0.24699145506045966, 'num_leaves': 2640, 'max_depth': 5, 'min_data_in_leaf': 1100, 'lambda_l1': 80, 'lambda_l2': 85, 'min_gain_to_split': 4.487042144664345, 'bagging_fraction': 0.30000000000000004, 'bagging_freq': 1, 'feature_fraction': 0.6000000000000001}. Best is trial 31 with value: 0.5185614024773555.\u001b[0m\n",
            "\u001b[32m[I 2021-11-22 07:52:24,298]\u001b[0m Trial 37 finished with value: 0.5407590847247465 and parameters: {'objective': 'regression', 'n_estimators': 10000, 'learning_rate': 0.20382659920009333, 'num_leaves': 980, 'max_depth': 3, 'min_data_in_leaf': 8900, 'lambda_l1': 90, 'lambda_l2': 75, 'min_gain_to_split': 1.205734229556188, 'bagging_fraction': 0.4, 'bagging_freq': 1, 'feature_fraction': 0.7}. Best is trial 31 with value: 0.5185614024773555.\u001b[0m\n",
            "\u001b[32m[I 2021-11-22 07:52:24,415]\u001b[0m Trial 38 finished with value: 0.5201409835276902 and parameters: {'objective': 'regression', 'n_estimators': 10000, 'learning_rate': 0.20590521600996814, 'num_leaves': 380, 'max_depth': 8, 'min_data_in_leaf': 700, 'lambda_l1': 60, 'lambda_l2': 90, 'min_gain_to_split': 6.939684238458564, 'bagging_fraction': 0.2, 'bagging_freq': 1, 'feature_fraction': 0.4}. Best is trial 31 with value: 0.5185614024773555.\u001b[0m\n",
            "\u001b[32m[I 2021-11-22 07:52:24,560]\u001b[0m Trial 39 finished with value: 0.5190227396512799 and parameters: {'objective': 'regression', 'n_estimators': 10000, 'learning_rate': 0.26952981980120977, 'num_leaves': 1280, 'max_depth': 11, 'min_data_in_leaf': 200, 'lambda_l1': 95, 'lambda_l2': 75, 'min_gain_to_split': 2.6977553568272334, 'bagging_fraction': 0.5, 'bagging_freq': 1, 'feature_fraction': 0.6000000000000001}. Best is trial 31 with value: 0.5185614024773555.\u001b[0m\n",
            "\u001b[32m[I 2021-11-22 07:52:24,629]\u001b[0m Trial 40 finished with value: 0.5407590847247465 and parameters: {'objective': 'regression', 'n_estimators': 10000, 'learning_rate': 0.06616379166125, 'num_leaves': 760, 'max_depth': 9, 'min_data_in_leaf': 3400, 'lambda_l1': 50, 'lambda_l2': 65, 'min_gain_to_split': 1.8215021916137295, 'bagging_fraction': 0.30000000000000004, 'bagging_freq': 1, 'feature_fraction': 0.30000000000000004}. Best is trial 31 with value: 0.5185614024773555.\u001b[0m\n",
            "\u001b[32m[I 2021-11-22 07:52:24,741]\u001b[0m Trial 41 finished with value: 0.5190837061223721 and parameters: {'objective': 'regression', 'n_estimators': 10000, 'learning_rate': 0.27997571485049383, 'num_leaves': 20, 'max_depth': 9, 'min_data_in_leaf': 700, 'lambda_l1': 100, 'lambda_l2': 85, 'min_gain_to_split': 3.5989127820845925, 'bagging_fraction': 0.30000000000000004, 'bagging_freq': 1, 'feature_fraction': 0.4}. Best is trial 31 with value: 0.5185614024773555.\u001b[0m\n",
            "\u001b[32m[I 2021-11-22 07:52:24,876]\u001b[0m Trial 42 finished with value: 0.5195348848373328 and parameters: {'objective': 'regression', 'n_estimators': 10000, 'learning_rate': 0.28693903199893184, 'num_leaves': 180, 'max_depth': 8, 'min_data_in_leaf': 200, 'lambda_l1': 100, 'lambda_l2': 90, 'min_gain_to_split': 3.143993424567534, 'bagging_fraction': 0.4, 'bagging_freq': 1, 'feature_fraction': 0.5}. Best is trial 31 with value: 0.5185614024773555.\u001b[0m\n",
            "\u001b[32m[I 2021-11-22 07:52:24,951]\u001b[0m Trial 43 finished with value: 0.5407590847247465 and parameters: {'objective': 'regression', 'n_estimators': 10000, 'learning_rate': 0.260777775424596, 'num_leaves': 160, 'max_depth': 9, 'min_data_in_leaf': 1800, 'lambda_l1': 85, 'lambda_l2': 80, 'min_gain_to_split': 4.9198684733569795, 'bagging_fraction': 0.30000000000000004, 'bagging_freq': 1, 'feature_fraction': 0.4}. Best is trial 31 with value: 0.5185614024773555.\u001b[0m\n",
            "\u001b[32m[I 2021-11-22 07:52:25,022]\u001b[0m Trial 44 finished with value: 0.5407590847247465 and parameters: {'objective': 'regression', 'n_estimators': 10000, 'learning_rate': 0.28741993970255864, 'num_leaves': 580, 'max_depth': 10, 'min_data_in_leaf': 2400, 'lambda_l1': 95, 'lambda_l2': 65, 'min_gain_to_split': 0.031246530171719744, 'bagging_fraction': 0.2, 'bagging_freq': 1, 'feature_fraction': 0.30000000000000004}. Best is trial 31 with value: 0.5185614024773555.\u001b[0m\n",
            "\u001b[32m[I 2021-11-22 07:52:25,166]\u001b[0m Trial 45 finished with value: 0.5191846312908802 and parameters: {'objective': 'rmse', 'n_estimators': 10000, 'learning_rate': 0.26769232013760436, 'num_leaves': 380, 'max_depth': 7, 'min_data_in_leaf': 1200, 'lambda_l1': 90, 'lambda_l2': 50, 'min_gain_to_split': 0.7980433780741508, 'bagging_fraction': 0.30000000000000004, 'bagging_freq': 1, 'feature_fraction': 0.5}. Best is trial 31 with value: 0.5185614024773555.\u001b[0m\n",
            "\u001b[32m[I 2021-11-22 07:52:25,333]\u001b[0m Trial 46 finished with value: 0.5187251454465066 and parameters: {'objective': 'regression', 'n_estimators': 10000, 'learning_rate': 0.2992119129534354, 'num_leaves': 140, 'max_depth': 9, 'min_data_in_leaf': 200, 'lambda_l1': 80, 'lambda_l2': 95, 'min_gain_to_split': 6.363342173377742, 'bagging_fraction': 0.4, 'bagging_freq': 1, 'feature_fraction': 0.4}. Best is trial 31 with value: 0.5185614024773555.\u001b[0m\n",
            "\u001b[32m[I 2021-11-22 07:52:25,492]\u001b[0m Trial 47 finished with value: 0.5193533375795009 and parameters: {'objective': 'regression', 'n_estimators': 10000, 'learning_rate': 0.29026360895080905, 'num_leaves': 180, 'max_depth': 10, 'min_data_in_leaf': 600, 'lambda_l1': 80, 'lambda_l2': 95, 'min_gain_to_split': 7.601488879203184, 'bagging_fraction': 0.4, 'bagging_freq': 1, 'feature_fraction': 0.2}. Best is trial 31 with value: 0.5185614024773555.\u001b[0m\n",
            "\u001b[32m[I 2021-11-22 07:52:25,564]\u001b[0m Trial 48 finished with value: 0.5407590847247465 and parameters: {'objective': 'regression', 'n_estimators': 10000, 'learning_rate': 0.2978550435320868, 'num_leaves': 340, 'max_depth': 7, 'min_data_in_leaf': 5800, 'lambda_l1': 85, 'lambda_l2': 95, 'min_gain_to_split': 6.259589262765663, 'bagging_fraction': 0.5, 'bagging_freq': 1, 'feature_fraction': 0.30000000000000004}. Best is trial 31 with value: 0.5185614024773555.\u001b[0m\n",
            "\u001b[32m[I 2021-11-22 07:52:26,161]\u001b[0m Trial 49 finished with value: 0.5207682489499216 and parameters: {'objective': 'rmse', 'n_estimators': 10000, 'learning_rate': 0.011285801740625934, 'num_leaves': 540, 'max_depth': 8, 'min_data_in_leaf': 1500, 'lambda_l1': 45, 'lambda_l2': 0, 'min_gain_to_split': 13.2671840981122, 'bagging_fraction': 0.4, 'bagging_freq': 1, 'feature_fraction': 0.5}. Best is trial 31 with value: 0.5185614024773555.\u001b[0m\n",
            "\u001b[32m[I 2021-11-22 07:52:26,231]\u001b[0m Trial 50 finished with value: 0.5407590847247465 and parameters: {'objective': 'regression', 'n_estimators': 10000, 'learning_rate': 0.12437236315882606, 'num_leaves': 2260, 'max_depth': 11, 'min_data_in_leaf': 4300, 'lambda_l1': 90, 'lambda_l2': 75, 'min_gain_to_split': 10.337057970743457, 'bagging_fraction': 0.2, 'bagging_freq': 1, 'feature_fraction': 0.4}. Best is trial 31 with value: 0.5185614024773555.\u001b[0m\n",
            "\u001b[32m[I 2021-11-22 07:52:26,365]\u001b[0m Trial 51 finished with value: 0.5187420788622057 and parameters: {'objective': 'regression', 'n_estimators': 10000, 'learning_rate': 0.28242365454276475, 'num_leaves': 40, 'max_depth': 9, 'min_data_in_leaf': 200, 'lambda_l1': 100, 'lambda_l2': 85, 'min_gain_to_split': 1.9931157860016833, 'bagging_fraction': 0.30000000000000004, 'bagging_freq': 1, 'feature_fraction': 0.4}. Best is trial 31 with value: 0.5185614024773555.\u001b[0m\n",
            "\u001b[32m[I 2021-11-22 07:52:26,513]\u001b[0m Trial 52 finished with value: 0.5195846352993704 and parameters: {'objective': 'regression', 'n_estimators': 10000, 'learning_rate': 0.2451914188233515, 'num_leaves': 120, 'max_depth': 9, 'min_data_in_leaf': 600, 'lambda_l1': 95, 'lambda_l2': 85, 'min_gain_to_split': 2.1370337069159056, 'bagging_fraction': 0.30000000000000004, 'bagging_freq': 1, 'feature_fraction': 0.4}. Best is trial 31 with value: 0.5185614024773555.\u001b[0m\n",
            "\u001b[32m[I 2021-11-22 07:52:26,625]\u001b[0m Trial 53 finished with value: 0.5199763507210855 and parameters: {'objective': 'regression', 'n_estimators': 10000, 'learning_rate': 0.2994539861577723, 'num_leaves': 200, 'max_depth': 9, 'min_data_in_leaf': 1100, 'lambda_l1': 100, 'lambda_l2': 90, 'min_gain_to_split': 7.76132269101591, 'bagging_fraction': 0.30000000000000004, 'bagging_freq': 1, 'feature_fraction': 0.30000000000000004}. Best is trial 31 with value: 0.5185614024773555.\u001b[0m\n",
            "\u001b[32m[I 2021-11-22 07:52:26,809]\u001b[0m Trial 54 finished with value: 0.5188029095937471 and parameters: {'objective': 'regression', 'n_estimators': 10000, 'learning_rate': 0.2630444625179209, 'num_leaves': 140, 'max_depth': 8, 'min_data_in_leaf': 400, 'lambda_l1': 90, 'lambda_l2': 95, 'min_gain_to_split': 2.8876170954715494, 'bagging_fraction': 0.4, 'bagging_freq': 1, 'feature_fraction': 0.4}. Best is trial 31 with value: 0.5185614024773555.\u001b[0m\n",
            "\u001b[32m[I 2021-11-22 07:52:26,894]\u001b[0m Trial 55 finished with value: 0.5407590847247465 and parameters: {'objective': 'regression', 'n_estimators': 10000, 'learning_rate': 0.23367166139205073, 'num_leaves': 460, 'max_depth': 10, 'min_data_in_leaf': 1600, 'lambda_l1': 80, 'lambda_l2': 70, 'min_gain_to_split': 1.9262914230368744, 'bagging_fraction': 0.2, 'bagging_freq': 1, 'feature_fraction': 0.5}. Best is trial 31 with value: 0.5185614024773555.\u001b[0m\n",
            "\u001b[32m[I 2021-11-22 07:52:27,041]\u001b[0m Trial 56 finished with value: 0.5189738911011137 and parameters: {'objective': 'rmse', 'n_estimators': 10000, 'learning_rate': 0.16686698432125452, 'num_leaves': 700, 'max_depth': 7, 'min_data_in_leaf': 900, 'lambda_l1': 70, 'lambda_l2': 90, 'min_gain_to_split': 4.166182296899214, 'bagging_fraction': 0.30000000000000004, 'bagging_freq': 1, 'feature_fraction': 0.30000000000000004}. Best is trial 31 with value: 0.5185614024773555.\u001b[0m\n",
            "\u001b[32m[I 2021-11-22 07:52:27,192]\u001b[0m Trial 57 finished with value: 0.5193734636367654 and parameters: {'objective': 'regression', 'n_estimators': 10000, 'learning_rate': 0.2549445590660937, 'num_leaves': 320, 'max_depth': 12, 'min_data_in_leaf': 200, 'lambda_l1': 10, 'lambda_l2': 75, 'min_gain_to_split': 14.844816426713733, 'bagging_fraction': 0.4, 'bagging_freq': 1, 'feature_fraction': 0.6000000000000001}. Best is trial 31 with value: 0.5185614024773555.\u001b[0m\n",
            "\u001b[32m[I 2021-11-22 07:52:27,329]\u001b[0m Trial 58 finished with value: 0.5190288272348191 and parameters: {'objective': 'regression', 'n_estimators': 10000, 'learning_rate': 0.28743174658200304, 'num_leaves': 80, 'max_depth': 9, 'min_data_in_leaf': 1400, 'lambda_l1': 95, 'lambda_l2': 55, 'min_gain_to_split': 0.6375500598294281, 'bagging_fraction': 0.5, 'bagging_freq': 1, 'feature_fraction': 0.4}. Best is trial 31 with value: 0.5185614024773555.\u001b[0m\n",
            "\u001b[32m[I 2021-11-22 07:52:27,412]\u001b[0m Trial 59 finished with value: 0.5407590847247465 and parameters: {'objective': 'regression', 'n_estimators': 10000, 'learning_rate': 0.2683721283128231, 'num_leaves': 960, 'max_depth': 8, 'min_data_in_leaf': 2500, 'lambda_l1': 85, 'lambda_l2': 65, 'min_gain_to_split': 5.211976562122773, 'bagging_fraction': 0.2, 'bagging_freq': 1, 'feature_fraction': 0.4}. Best is trial 31 with value: 0.5185614024773555.\u001b[0m\n",
            "\u001b[32m[I 2021-11-22 07:52:27,564]\u001b[0m Trial 60 finished with value: 0.5200658075082688 and parameters: {'objective': 'regression', 'n_estimators': 10000, 'learning_rate': 0.21026997760394478, 'num_leaves': 20, 'max_depth': 10, 'min_data_in_leaf': 700, 'lambda_l1': 20, 'lambda_l2': 15, 'min_gain_to_split': 8.662676048574554, 'bagging_fraction': 0.4, 'bagging_freq': 1, 'feature_fraction': 0.30000000000000004}. Best is trial 31 with value: 0.5185614024773555.\u001b[0m\n",
            "\u001b[32m[I 2021-11-22 07:52:27,689]\u001b[0m Trial 61 finished with value: 0.5187122463991772 and parameters: {'objective': 'regression', 'n_estimators': 10000, 'learning_rate': 0.27938896187971624, 'num_leaves': 20, 'max_depth': 9, 'min_data_in_leaf': 300, 'lambda_l1': 100, 'lambda_l2': 85, 'min_gain_to_split': 3.238426245288951, 'bagging_fraction': 0.30000000000000004, 'bagging_freq': 1, 'feature_fraction': 0.5}. Best is trial 31 with value: 0.5185614024773555.\u001b[0m\n",
            "\u001b[32m[I 2021-11-22 07:52:27,815]\u001b[0m Trial 62 finished with value: 0.5187225949986832 and parameters: {'objective': 'regression', 'n_estimators': 10000, 'learning_rate': 0.27864114700283127, 'num_leaves': 220, 'max_depth': 9, 'min_data_in_leaf': 400, 'lambda_l1': 100, 'lambda_l2': 85, 'min_gain_to_split': 1.00259554348848, 'bagging_fraction': 0.30000000000000004, 'bagging_freq': 1, 'feature_fraction': 0.5}. Best is trial 31 with value: 0.5185614024773555.\u001b[0m\n",
            "\u001b[32m[I 2021-11-22 07:52:27,930]\u001b[0m Trial 63 finished with value: 0.5198263069322592 and parameters: {'objective': 'regression', 'n_estimators': 10000, 'learning_rate': 0.2725314508933142, 'num_leaves': 220, 'max_depth': 9, 'min_data_in_leaf': 900, 'lambda_l1': 95, 'lambda_l2': 95, 'min_gain_to_split': 0.8930719860061755, 'bagging_fraction': 0.30000000000000004, 'bagging_freq': 1, 'feature_fraction': 0.5}. Best is trial 31 with value: 0.5185614024773555.\u001b[0m\n",
            "\u001b[32m[I 2021-11-22 07:52:28,052]\u001b[0m Trial 64 finished with value: 0.5186806019201914 and parameters: {'objective': 'regression', 'n_estimators': 10000, 'learning_rate': 0.2931563056656425, 'num_leaves': 440, 'max_depth': 8, 'min_data_in_leaf': 500, 'lambda_l1': 100, 'lambda_l2': 80, 'min_gain_to_split': 5.854252904931204, 'bagging_fraction': 0.30000000000000004, 'bagging_freq': 1, 'feature_fraction': 0.6000000000000001}. Best is trial 31 with value: 0.5185614024773555.\u001b[0m\n",
            "\u001b[32m[I 2021-11-22 07:52:28,118]\u001b[0m Trial 65 finished with value: 0.5407590847247465 and parameters: {'objective': 'regression', 'n_estimators': 10000, 'learning_rate': 0.23623493219879987, 'num_leaves': 440, 'max_depth': 8, 'min_data_in_leaf': 1200, 'lambda_l1': 100, 'lambda_l2': 80, 'min_gain_to_split': 3.158486210972068, 'bagging_fraction': 0.2, 'bagging_freq': 1, 'feature_fraction': 0.6000000000000001}. Best is trial 31 with value: 0.5185614024773555.\u001b[0m\n",
            "\u001b[32m[I 2021-11-22 07:52:28,189]\u001b[0m Trial 66 finished with value: 0.5407590847247465 and parameters: {'objective': 'regression', 'n_estimators': 10000, 'learning_rate': 0.25257250578717577, 'num_leaves': 320, 'max_depth': 6, 'min_data_in_leaf': 1900, 'lambda_l1': 90, 'lambda_l2': 70, 'min_gain_to_split': 1.6204253097417802, 'bagging_fraction': 0.30000000000000004, 'bagging_freq': 1, 'feature_fraction': 0.7}. Best is trial 31 with value: 0.5185614024773555.\u001b[0m\n",
            "\u001b[32m[I 2021-11-22 07:52:28,313]\u001b[0m Trial 67 finished with value: 0.5189592886432536 and parameters: {'objective': 'rmse', 'n_estimators': 10000, 'learning_rate': 0.27323135581562685, 'num_leaves': 560, 'max_depth': 8, 'min_data_in_leaf': 500, 'lambda_l1': 100, 'lambda_l2': 85, 'min_gain_to_split': 4.301991569842718, 'bagging_fraction': 0.30000000000000004, 'bagging_freq': 1, 'feature_fraction': 0.6000000000000001}. Best is trial 31 with value: 0.5185614024773555.\u001b[0m\n",
            "\u001b[32m[I 2021-11-22 07:52:28,446]\u001b[0m Trial 68 finished with value: 0.519249112843771 and parameters: {'objective': 'regression', 'n_estimators': 10000, 'learning_rate': 0.2878775214808017, 'num_leaves': 1840, 'max_depth': 8, 'min_data_in_leaf': 800, 'lambda_l1': 95, 'lambda_l2': 80, 'min_gain_to_split': 5.9994942400775315, 'bagging_fraction': 0.9, 'bagging_freq': 1, 'feature_fraction': 0.5}. Best is trial 31 with value: 0.5185614024773555.\u001b[0m\n",
            "\u001b[32m[I 2021-11-22 07:52:28,533]\u001b[0m Trial 69 finished with value: 0.5407590847247465 and parameters: {'objective': 'regression', 'n_estimators': 10000, 'learning_rate': 0.26125008010311024, 'num_leaves': 280, 'max_depth': 7, 'min_data_in_leaf': 7700, 'lambda_l1': 30, 'lambda_l2': 75, 'min_gain_to_split': 2.4889547588904906, 'bagging_fraction': 0.2, 'bagging_freq': 1, 'feature_fraction': 0.5}. Best is trial 31 with value: 0.5185614024773555.\u001b[0m\n",
            "\u001b[32m[I 2021-11-22 07:52:28,611]\u001b[0m Trial 70 finished with value: 0.5407590847247465 and parameters: {'objective': 'regression', 'n_estimators': 10000, 'learning_rate': 0.0666992711966993, 'num_leaves': 2600, 'max_depth': 11, 'min_data_in_leaf': 1400, 'lambda_l1': 90, 'lambda_l2': 85, 'min_gain_to_split': 1.135859551133728, 'bagging_fraction': 0.30000000000000004, 'bagging_freq': 1, 'feature_fraction': 0.7}. Best is trial 31 with value: 0.5185614024773555.\u001b[0m\n",
            "\u001b[32m[I 2021-11-22 07:52:28,734]\u001b[0m Trial 71 finished with value: 0.5185988908588229 and parameters: {'objective': 'regression', 'n_estimators': 10000, 'learning_rate': 0.2933870840653155, 'num_leaves': 100, 'max_depth': 9, 'min_data_in_leaf': 400, 'lambda_l1': 100, 'lambda_l2': 90, 'min_gain_to_split': 6.774447461042534, 'bagging_fraction': 0.30000000000000004, 'bagging_freq': 1, 'feature_fraction': 0.6000000000000001}. Best is trial 31 with value: 0.5185614024773555.\u001b[0m\n",
            "\u001b[32m[I 2021-11-22 07:52:28,896]\u001b[0m Trial 72 finished with value: 0.5189634834870519 and parameters: {'objective': 'regression', 'n_estimators': 10000, 'learning_rate': 0.2911710075807766, 'num_leaves': 220, 'max_depth': 10, 'min_data_in_leaf': 600, 'lambda_l1': 100, 'lambda_l2': 90, 'min_gain_to_split': 7.16092360757373, 'bagging_fraction': 0.30000000000000004, 'bagging_freq': 1, 'feature_fraction': 0.6000000000000001}. Best is trial 31 with value: 0.5185614024773555.\u001b[0m\n",
            "\u001b[32m[I 2021-11-22 07:52:29,023]\u001b[0m Trial 73 finished with value: 0.5187206745853293 and parameters: {'objective': 'regression', 'n_estimators': 10000, 'learning_rate': 0.27875435351955186, 'num_leaves': 400, 'max_depth': 9, 'min_data_in_leaf': 500, 'lambda_l1': 95, 'lambda_l2': 80, 'min_gain_to_split': 5.190067276943426, 'bagging_fraction': 0.30000000000000004, 'bagging_freq': 1, 'feature_fraction': 0.6000000000000001}. Best is trial 31 with value: 0.5185614024773555.\u001b[0m\n",
            "\u001b[32m[I 2021-11-22 07:52:29,130]\u001b[0m Trial 74 finished with value: 0.5200529419212986 and parameters: {'objective': 'regression', 'n_estimators': 10000, 'learning_rate': 0.292811970434333, 'num_leaves': 400, 'max_depth': 9, 'min_data_in_leaf': 1100, 'lambda_l1': 95, 'lambda_l2': 80, 'min_gain_to_split': 5.151477412485205, 'bagging_fraction': 0.30000000000000004, 'bagging_freq': 1, 'feature_fraction': 0.6000000000000001}. Best is trial 31 with value: 0.5185614024773555.\u001b[0m\n",
            "\u001b[32m[I 2021-11-22 07:52:29,241]\u001b[0m Trial 75 finished with value: 0.519135811909744 and parameters: {'objective': 'regression', 'n_estimators': 10000, 'learning_rate': 0.27848600949894, 'num_leaves': 100, 'max_depth': 8, 'min_data_in_leaf': 400, 'lambda_l1': 95, 'lambda_l2': 70, 'min_gain_to_split': 5.756270827085058, 'bagging_fraction': 0.8, 'bagging_freq': 1, 'feature_fraction': 0.6000000000000001}. Best is trial 31 with value: 0.5185614024773555.\u001b[0m\n",
            "\u001b[32m[I 2021-11-22 07:52:29,309]\u001b[0m Trial 76 finished with value: 0.5407590847247465 and parameters: {'objective': 'regression', 'n_estimators': 10000, 'learning_rate': 0.26841296545225823, 'num_leaves': 500, 'max_depth': 10, 'min_data_in_leaf': 1200, 'lambda_l1': 85, 'lambda_l2': 75, 'min_gain_to_split': 3.9941566545575116, 'bagging_fraction': 0.2, 'bagging_freq': 1, 'feature_fraction': 0.9}. Best is trial 31 with value: 0.5185614024773555.\u001b[0m\n",
            "\u001b[32m[I 2021-11-22 07:52:29,431]\u001b[0m Trial 77 finished with value: 0.5201348673368298 and parameters: {'objective': 'regression', 'n_estimators': 10000, 'learning_rate': 0.24552332305011948, 'num_leaves': 360, 'max_depth': 8, 'min_data_in_leaf': 800, 'lambda_l1': 90, 'lambda_l2': 90, 'min_gain_to_split': 4.787538400230135, 'bagging_fraction': 0.4, 'bagging_freq': 1, 'feature_fraction': 0.7}. Best is trial 31 with value: 0.5185614024773555.\u001b[0m\n",
            "\u001b[32m[I 2021-11-22 07:52:29,532]\u001b[0m Trial 78 finished with value: 0.5407590847247465 and parameters: {'objective': 'regression', 'n_estimators': 10000, 'learning_rate': 0.28444386167753244, 'num_leaves': 680, 'max_depth': 9, 'min_data_in_leaf': 1700, 'lambda_l1': 100, 'lambda_l2': 80, 'min_gain_to_split': 6.706229351792526, 'bagging_fraction': 0.30000000000000004, 'bagging_freq': 1, 'feature_fraction': 0.6000000000000001}. Best is trial 31 with value: 0.5185614024773555.\u001b[0m\n",
            "\u001b[32m[I 2021-11-22 07:52:29,670]\u001b[0m Trial 79 finished with value: 0.5187133784622348 and parameters: {'objective': 'regression', 'n_estimators': 10000, 'learning_rate': 0.2932982848926716, 'num_leaves': 20, 'max_depth': 10, 'min_data_in_leaf': 500, 'lambda_l1': 55, 'lambda_l2': 100, 'min_gain_to_split': 5.684981982443283, 'bagging_fraction': 0.30000000000000004, 'bagging_freq': 1, 'feature_fraction': 0.6000000000000001}. Best is trial 31 with value: 0.5185614024773555.\u001b[0m\n",
            "\u001b[32m[I 2021-11-22 07:52:29,755]\u001b[0m Trial 80 finished with value: 0.5407590847247465 and parameters: {'objective': 'rmse', 'n_estimators': 10000, 'learning_rate': 0.2949789404188769, 'num_leaves': 20, 'max_depth': 10, 'min_data_in_leaf': 900, 'lambda_l1': 55, 'lambda_l2': 40, 'min_gain_to_split': 3.305765735100609, 'bagging_fraction': 0.2, 'bagging_freq': 1, 'feature_fraction': 0.6000000000000001}. Best is trial 31 with value: 0.5185614024773555.\u001b[0m\n",
            "\u001b[32m[I 2021-11-22 07:52:29,893]\u001b[0m Trial 81 finished with value: 0.5187333426042106 and parameters: {'objective': 'regression', 'n_estimators': 10000, 'learning_rate': 0.2743654023494189, 'num_leaves': 120, 'max_depth': 10, 'min_data_in_leaf': 400, 'lambda_l1': 65, 'lambda_l2': 100, 'min_gain_to_split': 5.602479762208018, 'bagging_fraction': 0.30000000000000004, 'bagging_freq': 1, 'feature_fraction': 0.6000000000000001}. Best is trial 31 with value: 0.5185614024773555.\u001b[0m\n",
            "\u001b[32m[I 2021-11-22 07:52:30,017]\u001b[0m Trial 82 finished with value: 0.5189473307766066 and parameters: {'objective': 'regression', 'n_estimators': 10000, 'learning_rate': 0.2604940510550308, 'num_leaves': 280, 'max_depth': 11, 'min_data_in_leaf': 500, 'lambda_l1': 40, 'lambda_l2': 100, 'min_gain_to_split': 6.093047117713678, 'bagging_fraction': 0.30000000000000004, 'bagging_freq': 1, 'feature_fraction': 0.7}. Best is trial 31 with value: 0.5185614024773555.\u001b[0m\n",
            "\u001b[32m[I 2021-11-22 07:52:30,089]\u001b[0m Trial 83 finished with value: 0.5407590847247465 and parameters: {'objective': 'regression', 'n_estimators': 10000, 'learning_rate': 0.2835399863914437, 'num_leaves': 100, 'max_depth': 9, 'min_data_in_leaf': 2100, 'lambda_l1': 95, 'lambda_l2': 90, 'min_gain_to_split': 8.004280835916184, 'bagging_fraction': 0.30000000000000004, 'bagging_freq': 1, 'feature_fraction': 0.8}. Best is trial 31 with value: 0.5185614024773555.\u001b[0m\n",
            "\u001b[32m[I 2021-11-22 07:52:30,275]\u001b[0m Trial 84 finished with value: 0.5187990109509117 and parameters: {'objective': 'regression', 'n_estimators': 10000, 'learning_rate': 0.29245440925317734, 'num_leaves': 1380, 'max_depth': 9, 'min_data_in_leaf': 200, 'lambda_l1': 100, 'lambda_l2': 75, 'min_gain_to_split': 4.5896496380192255, 'bagging_fraction': 0.4, 'bagging_freq': 1, 'feature_fraction': 0.6000000000000001}. Best is trial 31 with value: 0.5185614024773555.\u001b[0m\n",
            "\u001b[32m[I 2021-11-22 07:52:30,427]\u001b[0m Trial 85 finished with value: 0.5190752036001324 and parameters: {'objective': 'regression', 'n_estimators': 10000, 'learning_rate': 0.29921546149119643, 'num_leaves': 180, 'max_depth': 11, 'min_data_in_leaf': 1300, 'lambda_l1': 95, 'lambda_l2': 95, 'min_gain_to_split': 7.273462127303391, 'bagging_fraction': 0.30000000000000004, 'bagging_freq': 1, 'feature_fraction': 0.5}. Best is trial 31 with value: 0.5185614024773555.\u001b[0m\n",
            "\u001b[32m[I 2021-11-22 07:52:30,604]\u001b[0m Trial 86 finished with value: 0.5195552109842336 and parameters: {'objective': 'regression', 'n_estimators': 10000, 'learning_rate': 0.0992879482796441, 'num_leaves': 420, 'max_depth': 10, 'min_data_in_leaf': 800, 'lambda_l1': 100, 'lambda_l2': 85, 'min_gain_to_split': 6.667076543659809, 'bagging_fraction': 0.4, 'bagging_freq': 1, 'feature_fraction': 0.7}. Best is trial 31 with value: 0.5185614024773555.\u001b[0m\n",
            "\u001b[32m[I 2021-11-22 07:52:30,673]\u001b[0m Trial 87 finished with value: 0.5407590847247465 and parameters: {'objective': 'regression', 'n_estimators': 10000, 'learning_rate': 0.2656437301638035, 'num_leaves': 600, 'max_depth': 8, 'min_data_in_leaf': 9500, 'lambda_l1': 90, 'lambda_l2': 65, 'min_gain_to_split': 2.8921821031605845, 'bagging_fraction': 0.2, 'bagging_freq': 1, 'feature_fraction': 0.6000000000000001}. Best is trial 31 with value: 0.5185614024773555.\u001b[0m\n",
            "\u001b[32m[I 2021-11-22 07:52:30,786]\u001b[0m Trial 88 finished with value: 0.5202524030758912 and parameters: {'objective': 'regression', 'n_estimators': 10000, 'learning_rate': 0.2501988602085677, 'num_leaves': 260, 'max_depth': 9, 'min_data_in_leaf': 1000, 'lambda_l1': 95, 'lambda_l2': 80, 'min_gain_to_split': 5.117350321431825, 'bagging_fraction': 0.30000000000000004, 'bagging_freq': 1, 'feature_fraction': 0.5}. Best is trial 31 with value: 0.5185614024773555.\u001b[0m\n",
            "\u001b[32m[I 2021-11-22 07:52:30,864]\u001b[0m Trial 89 finished with value: 0.5407590847247465 and parameters: {'objective': 'regression', 'n_estimators': 10000, 'learning_rate': 0.27903418564167143, 'num_leaves': 80, 'max_depth': 10, 'min_data_in_leaf': 6600, 'lambda_l1': 85, 'lambda_l2': 85, 'min_gain_to_split': 2.275080385682268, 'bagging_fraction': 0.30000000000000004, 'bagging_freq': 1, 'feature_fraction': 0.6000000000000001}. Best is trial 31 with value: 0.5185614024773555.\u001b[0m\n",
            "\u001b[32m[I 2021-11-22 07:52:31,006]\u001b[0m Trial 90 finished with value: 0.5190933641174184 and parameters: {'objective': 'regression', 'n_estimators': 10000, 'learning_rate': 0.29122076664286434, 'num_leaves': 500, 'max_depth': 12, 'min_data_in_leaf': 400, 'lambda_l1': 0, 'lambda_l2': 100, 'min_gain_to_split': 5.833642597873458, 'bagging_fraction': 0.30000000000000004, 'bagging_freq': 1, 'feature_fraction': 0.2}. Best is trial 31 with value: 0.5185614024773555.\u001b[0m\n",
            "\u001b[32m[I 2021-11-22 07:52:31,144]\u001b[0m Trial 91 finished with value: 0.5187964363559826 and parameters: {'objective': 'regression', 'n_estimators': 10000, 'learning_rate': 0.2773509229614494, 'num_leaves': 220, 'max_depth': 9, 'min_data_in_leaf': 500, 'lambda_l1': 100, 'lambda_l2': 85, 'min_gain_to_split': 1.6104901369203186, 'bagging_fraction': 0.30000000000000004, 'bagging_freq': 1, 'feature_fraction': 0.5}. Best is trial 31 with value: 0.5185614024773555.\u001b[0m\n",
            "\u001b[32m[I 2021-11-22 07:52:31,269]\u001b[0m Trial 92 finished with value: 0.51861298496025 and parameters: {'objective': 'regression', 'n_estimators': 10000, 'learning_rate': 0.2830128598269502, 'num_leaves': 340, 'max_depth': 9, 'min_data_in_leaf': 400, 'lambda_l1': 100, 'lambda_l2': 80, 'min_gain_to_split': 0.3385368728773297, 'bagging_fraction': 0.30000000000000004, 'bagging_freq': 1, 'feature_fraction': 0.5}. Best is trial 31 with value: 0.5185614024773555.\u001b[0m\n",
            "\u001b[32m[I 2021-11-22 07:52:31,455]\u001b[0m Trial 93 finished with value: 0.5188197446915611 and parameters: {'objective': 'regression', 'n_estimators': 10000, 'learning_rate': 0.2857396094651209, 'num_leaves': 340, 'max_depth': 9, 'min_data_in_leaf': 700, 'lambda_l1': 100, 'lambda_l2': 90, 'min_gain_to_split': 1.3529936950731767, 'bagging_fraction': 0.4, 'bagging_freq': 1, 'feature_fraction': 0.5}. Best is trial 31 with value: 0.5185614024773555.\u001b[0m\n",
            "\u001b[32m[I 2021-11-22 07:52:31,597]\u001b[0m Trial 94 finished with value: 0.5186360779121743 and parameters: {'objective': 'regression', 'n_estimators': 10000, 'learning_rate': 0.27382414248945147, 'num_leaves': 20, 'max_depth': 8, 'min_data_in_leaf': 200, 'lambda_l1': 95, 'lambda_l2': 75, 'min_gain_to_split': 0.351242620612483, 'bagging_fraction': 0.30000000000000004, 'bagging_freq': 1, 'feature_fraction': 0.6000000000000001}. Best is trial 31 with value: 0.5185614024773555.\u001b[0m\n",
            "\u001b[32m[I 2021-11-22 07:52:31,718]\u001b[0m Trial 95 finished with value: 0.5196559902367226 and parameters: {'objective': 'regression', 'n_estimators': 10000, 'learning_rate': 0.2708593329902147, 'num_leaves': 140, 'max_depth': 8, 'min_data_in_leaf': 200, 'lambda_l1': 55, 'lambda_l2': 75, 'min_gain_to_split': 0.0565301760870387, 'bagging_fraction': 0.2, 'bagging_freq': 1, 'feature_fraction': 0.5}. Best is trial 31 with value: 0.5185614024773555.\u001b[0m\n",
            "\u001b[32m[I 2021-11-22 07:52:31,786]\u001b[0m Trial 96 finished with value: 0.5407590847247465 and parameters: {'objective': 'regression', 'n_estimators': 10000, 'learning_rate': 0.2589313623909165, 'num_leaves': 20, 'max_depth': 8, 'min_data_in_leaf': 3200, 'lambda_l1': 75, 'lambda_l2': 70, 'min_gain_to_split': 0.3366721698674815, 'bagging_fraction': 0.30000000000000004, 'bagging_freq': 1, 'feature_fraction': 0.6000000000000001}. Best is trial 31 with value: 0.5185614024773555.\u001b[0m\n",
            "\u001b[32m[I 2021-11-22 07:52:31,895]\u001b[0m Trial 97 finished with value: 0.5197164061244836 and parameters: {'objective': 'regression', 'n_estimators': 10000, 'learning_rate': 0.29467678409234654, 'num_leaves': 140, 'max_depth': 7, 'min_data_in_leaf': 1000, 'lambda_l1': 90, 'lambda_l2': 70, 'min_gain_to_split': 0.858922639248158, 'bagging_fraction': 0.30000000000000004, 'bagging_freq': 1, 'feature_fraction': 0.5}. Best is trial 31 with value: 0.5185614024773555.\u001b[0m\n",
            "\u001b[32m[I 2021-11-22 07:52:32,052]\u001b[0m Trial 98 finished with value: 0.519155351100068 and parameters: {'objective': 'rmse', 'n_estimators': 10000, 'learning_rate': 0.284529757281803, 'num_leaves': 80, 'max_depth': 7, 'min_data_in_leaf': 1600, 'lambda_l1': 100, 'lambda_l2': 80, 'min_gain_to_split': 0.5521874855979947, 'bagging_fraction': 0.4, 'bagging_freq': 1, 'feature_fraction': 0.6000000000000001}. Best is trial 31 with value: 0.5185614024773555.\u001b[0m\n",
            "\u001b[32m[I 2021-11-22 07:52:32,183]\u001b[0m Trial 99 finished with value: 0.519764891383388 and parameters: {'objective': 'regression', 'n_estimators': 10000, 'learning_rate': 0.1795763924264943, 'num_leaves': 300, 'max_depth': 8, 'min_data_in_leaf': 200, 'lambda_l1': 90, 'lambda_l2': 75, 'min_gain_to_split': 1.6669042816437254, 'bagging_fraction': 0.2, 'bagging_freq': 1, 'feature_fraction': 0.5}. Best is trial 31 with value: 0.5185614024773555.\u001b[0m\n"
          ]
        }
      ]
    },
    {
      "cell_type": "code",
      "metadata": {
        "colab": {
          "base_uri": "https://localhost:8080/"
        },
        "id": "akBjpG2moQ0w",
        "outputId": "471d14ae-06d6-46c2-dcbd-ec547aca80e1"
      },
      "source": [
        "\n",
        "print('Number of finished trials:', len(study.trials))\n",
        "print('Best trial:', study.best_trial.params)"
      ],
      "execution_count": null,
      "outputs": [
        {
          "output_type": "stream",
          "name": "stdout",
          "text": [
            "Number of finished trials: 100\n",
            "Best trial: {'objective': 'regression', 'n_estimators': 10000, 'learning_rate': 0.29713788123351326, 'num_leaves': 180, 'max_depth': 9, 'min_data_in_leaf': 200, 'lambda_l1': 85, 'lambda_l2': 65, 'min_gain_to_split': 2.37788149093947, 'bagging_fraction': 0.30000000000000004, 'bagging_freq': 1, 'feature_fraction': 0.4}\n"
          ]
        }
      ]
    },
    {
      "cell_type": "code",
      "metadata": {
        "colab": {
          "base_uri": "https://localhost:8080/"
        },
        "id": "yUWoMApVogdY",
        "outputId": "b33ce2bd-2633-49cd-89e5-e847c5b98f05"
      },
      "source": [
        "lgbm_params = study.best_trial.params\n",
        "lgbm_params"
      ],
      "execution_count": null,
      "outputs": [
        {
          "output_type": "execute_result",
          "data": {
            "text/plain": [
              "{'bagging_fraction': 0.30000000000000004,\n",
              " 'bagging_freq': 1,\n",
              " 'feature_fraction': 0.4,\n",
              " 'lambda_l1': 85,\n",
              " 'lambda_l2': 65,\n",
              " 'learning_rate': 0.29713788123351326,\n",
              " 'max_depth': 9,\n",
              " 'min_data_in_leaf': 200,\n",
              " 'min_gain_to_split': 2.37788149093947,\n",
              " 'n_estimators': 10000,\n",
              " 'num_leaves': 180,\n",
              " 'objective': 'regression'}"
            ]
          },
          "metadata": {},
          "execution_count": 108
        }
      ]
    },
    {
      "cell_type": "markdown",
      "metadata": {
        "id": "KoRyANCfpDSO"
      },
      "source": [
        "## Cross validation"
      ]
    },
    {
      "cell_type": "markdown",
      "metadata": {
        "id": "7tvDo_CFrRBM"
      },
      "source": [
        "### LGBM"
      ]
    },
    {
      "cell_type": "code",
      "metadata": {
        "id": "ddd2rl6LpLsa"
      },
      "source": [
        "# Cross validation for lgbm\n",
        "\n",
        "def cross_val(X, y, model, params, folds=5):\n",
        "\n",
        "    score = []\n",
        "    \n",
        "    skf = KFold(n_splits=folds, shuffle=True, random_state=21)\n",
        "\n",
        "    for fold, (train_idx, test_idx) in enumerate(skf.split(X, y)):\n",
        "        print(f\"Fold: {fold+1}\")\n",
        "        x_train, y_train = X.iloc[train_idx], y.iloc[train_idx]\n",
        "        x_test, y_test = X.iloc[test_idx], y.iloc[test_idx]\n",
        "        \n",
        "        #fit\n",
        "        alg = model(**params,random_state=2021)\n",
        "        alg.fit(x_train,y_train,eval_set=[(x_test,y_test)],verbose=False,early_stopping_rounds=100)\n",
        "\n",
        "        #predict validation\n",
        "        pred = alg.predict(x_test)\n",
        "        error = mean_squared_log_error(y_test, pred,squared=False)\n",
        "        score.append(error)\n",
        "        \n",
        "        print(f\" RMSLE: {error}\")\n",
        "        print(\"-\"*50)\n",
        "     \n",
        "    print(\"\\nmean RMSLE:\",np.array(score).mean())\n",
        "\n",
        "    return alg"
      ],
      "execution_count": null,
      "outputs": []
    },
    {
      "cell_type": "code",
      "metadata": {
        "id": "-nE95gSNpbIJ"
      },
      "source": [
        "\n",
        "# buat df baru berdasarkan feature selection\n",
        "\n",
        "x_new = train[[\"LOCATION\", \"DRIVER\"]].astype(\"category\") \n",
        "y_new = y"
      ],
      "execution_count": null,
      "outputs": []
    },
    {
      "cell_type": "code",
      "metadata": {
        "colab": {
          "base_uri": "https://localhost:8080/"
        },
        "id": "L_PoYdqupw4d",
        "outputId": "1ec2fe31-45e5-4658-8712-3e720a19faf4"
      },
      "source": [
        "lgbm_score = cross_val(x_new, y_new, LGBMRegressor, lgbm_params)"
      ],
      "execution_count": null,
      "outputs": [
        {
          "output_type": "stream",
          "name": "stdout",
          "text": [
            "Fold: 1\n",
            " RMSLE: 0.5697774953935589\n",
            "--------------------------------------------------\n",
            "Fold: 2\n",
            " RMSLE: 0.5472769814895292\n",
            "--------------------------------------------------\n",
            "Fold: 3\n",
            " RMSLE: 0.5847654358627524\n",
            "--------------------------------------------------\n",
            "Fold: 4\n",
            " RMSLE: 0.5738923619444863\n",
            "--------------------------------------------------\n",
            "Fold: 5\n",
            " RMSLE: 0.5318017693092141\n",
            "--------------------------------------------------\n",
            "\n",
            "mean RMSLE: 0.5615028087999082\n"
          ]
        }
      ]
    },
    {
      "cell_type": "code",
      "metadata": {
        "id": "LYnblwC0qKAn"
      },
      "source": [
        "lgbm_predict = lgbm_score.predict(x_val[col])"
      ],
      "execution_count": null,
      "outputs": []
    },
    {
      "cell_type": "code",
      "metadata": {
        "colab": {
          "base_uri": "https://localhost:8080/"
        },
        "id": "yRReviaGqWsE",
        "outputId": "ba479a42-dd05-4f8c-acb4-1641568653eb"
      },
      "source": [
        "plt.figure(figsize=(17, 8)) \n",
        "\n",
        "sns.regplot(y_val, lgbm_predict)\n",
        "plt.title(\"Actual vs predict\")\n",
        "plt.xlabel(\"Actual\")\n",
        "plt.ylabel(\"Predict\")"
      ],
      "execution_count": null,
      "outputs": [
        {
          "output_type": "execute_result",
          "data": {
            "text/plain": [
              "Text(0, 0.5, 'Predict')"
            ]
          },
          "metadata": {},
          "execution_count": 126
        },
        {
          "output_type": "display_data",
          "data": {
            "image/png": "[encoded data removed]",
            "text/plain": [
              "<Figure size 1224x576 with 1 Axes>"
            ]
          },
          "metadata": {
            "needs_background": "light"
          }
        }
      ]
    },
    {
      "cell_type": "code",
      "metadata": {
        "id": "IqOIZbseRMNG",
        "colab": {
          "base_uri": "https://localhost:8080/"
        },
        "outputId": "048d3e2a-aafd-42f3-b4e9-92838878384b"
      },
      "source": [
        "print(f\"r2_score train: {lgbm_score.score(x_train[col],y_train) }\")\n",
        "print(f\"r2_score val: {lgbm_score.score(x_val[col],y_val) }\")\n",
        "print(f\"RMSLE : {mean_squared_log_error(y_val,lgbm_predict, squared=False)}\")\n",
        "print(f\"MAE : {mean_absolute_error(y_val,lgbm_predict)}\")"
      ],
      "execution_count": null,
      "outputs": [
        {
          "output_type": "stream",
          "name": "stdout",
          "text": [
            "r2_score train: 0.10702636370816698\n",
            "r2_score val: 0.10718614867220355\n",
            "RMSLE : 0.5193213831316138\n",
            "MAE : 16.82687264395561\n"
          ]
        }
      ]
    },
    {
      "cell_type": "code",
      "metadata": {
        "id": "0ycjU_Tjmqtk"
      },
      "source": [
        ""
      ],
      "execution_count": null,
      "outputs": []
    },
    {
      "cell_type": "markdown",
      "metadata": {
        "id": "tenvicuirUOQ"
      },
      "source": [
        "### Catboost"
      ]
    },
    {
      "cell_type": "code",
      "metadata": {
        "id": "SanIxaSamrid"
      },
      "source": [
        "# Cross validation for lgbm\n",
        "\n",
        "def cross_val(X, y, model, params, folds=5):\n",
        "\n",
        "    score = []\n",
        "    \n",
        "    skf = KFold(n_splits=folds, shuffle=True, random_state=21)\n",
        "\n",
        "    for fold, (train_idx, test_idx) in enumerate(skf.split(X, y)):\n",
        "        print(f\"Fold: {fold+1}\")\n",
        "        x_train, y_train = X.iloc[train_idx], y.iloc[train_idx]\n",
        "        x_test, y_test = X.iloc[test_idx], y.iloc[test_idx]\n",
        "        \n",
        "        #fit\n",
        "        alg = model(**params,random_state=2021)\n",
        "        alg.fit(x_train,y_train,eval_set=[(x_test,y_test)],verbose=False,cat_features=col,early_stopping_rounds=100)\n",
        "\n",
        "        #predict validation\n",
        "        pred = alg.predict(x_test)\n",
        "        error = mean_squared_log_error(y_test, pred,squared=False)\n",
        "        score.append(error)\n",
        "        \n",
        "        print(f\" RMSLE: {error}\")\n",
        "        print(\"-\"*50)\n",
        "     \n",
        "    print(\"\\nmean RMSLE:\",np.array(score).mean())\n",
        "\n",
        "    return alg"
      ],
      "execution_count": null,
      "outputs": []
    },
    {
      "cell_type": "code",
      "metadata": {
        "colab": {
          "base_uri": "https://localhost:8080/"
        },
        "id": "HnEhy0x6rlJF",
        "outputId": "d2742365-2e30-4cb1-a234-ff821fd9a573"
      },
      "source": [
        "cb_score = cross_val(x_new, y_new, CatBoostRegressor, cb_params)"
      ],
      "execution_count": null,
      "outputs": [
        {
          "output_type": "stream",
          "name": "stdout",
          "text": [
            "Fold: 1\n",
            " RMSLE: 0.5710865770824677\n",
            "--------------------------------------------------\n",
            "Fold: 2\n",
            " RMSLE: 0.5473814505254019\n",
            "--------------------------------------------------\n",
            "Fold: 3\n",
            " RMSLE: 0.5865740489236189\n",
            "--------------------------------------------------\n",
            "Fold: 4\n",
            " RMSLE: 0.575056004835865\n",
            "--------------------------------------------------\n",
            "Fold: 5\n",
            " RMSLE: 0.5312914902186728\n",
            "--------------------------------------------------\n",
            "\n",
            "mean RMSLE: 0.5622779143172052\n"
          ]
        }
      ]
    },
    {
      "cell_type": "code",
      "metadata": {
        "id": "BPZC_U1erttY"
      },
      "source": [
        "cb_predict = cb_score.predict(x_val[col])"
      ],
      "execution_count": null,
      "outputs": []
    },
    {
      "cell_type": "code",
      "metadata": {
        "colab": {
          "base_uri": "https://localhost:8080/"
        },
        "id": "mTtK5AS0rz5B",
        "outputId": "f6e41269-385c-4d62-8232-a23aad4b6fb7"
      },
      "source": [
        "plt.figure(figsize=(17, 8)) \n",
        "\n",
        "sns.regplot(y_val, cb_predict)\n",
        "plt.title(\"Actual vs predict\")\n",
        "plt.xlabel(\"Actual\")\n",
        "plt.ylabel(\"Predict\")"
      ],
      "execution_count": null,
      "outputs": [
        {
          "output_type": "execute_result",
          "data": {
            "text/plain": [
              "Text(0, 0.5, 'Predict')"
            ]
          },
          "metadata": {},
          "execution_count": 130
        },
        {
          "output_type": "display_data",
          "data": {
            "image/png": "[encoded data removed]",
            "text/plain": [
              "<Figure size 1224x576 with 1 Axes>"
            ]
          },
          "metadata": {
            "needs_background": "light"
          }
        }
      ]
    },
    {
      "cell_type": "code",
      "metadata": {
        "colab": {
          "base_uri": "https://localhost:8080/"
        },
        "id": "FwR7cABar4x8",
        "outputId": "71042f54-1ced-4f79-b241-3f54cf5de690"
      },
      "source": [
        "print(f\"r2_score train: {cb_score.score(x_train[col],y_train) }\")\n",
        "print(f\"r2_score val: {cb_score.score(x_val[col],y_val) }\")\n",
        "print(f\"RMSLE : {mean_squared_log_error(y_val,cb_predict, squared=False)}\")\n",
        "print(f\"MAE : {mean_absolute_error(y_val,cb_predict)}\")"
      ],
      "execution_count": null,
      "outputs": [
        {
          "output_type": "stream",
          "name": "stdout",
          "text": [
            "r2_score train: 0.10564234974067055\n",
            "r2_score val: 0.10054232887298176\n",
            "RMSLE : 0.519618062445021\n",
            "MAE : 16.869630473681188\n"
          ]
        }
      ]
    },
    {
      "cell_type": "markdown",
      "metadata": {
        "id": "4jWKcm7er-R8"
      },
      "source": [
        "## Buat submission"
      ]
    },
    {
      "cell_type": "code",
      "metadata": {
        "colab": {
          "base_uri": "https://localhost:8080/",
          "height": 419
        },
        "id": "X-RyF3w8sDGN",
        "outputId": "0a6220af-16fb-4a9d-d70e-691d575dbbed"
      },
      "source": [
        "sub"
      ],
      "execution_count": null,
      "outputs": [
        {
          "output_type": "execute_result",
          "data": {
            "text/html": [
              "<div>\n",
              "<style scoped>\n",
              "    .dataframe tbody tr th:only-of-type {\n",
              "        vertical-align: middle;\n",
              "    }\n",
              "\n",
              "    .dataframe tbody tr th {\n",
              "        vertical-align: top;\n",
              "    }\n",
              "\n",
              "    .dataframe thead th {\n",
              "        text-align: right;\n",
              "    }\n",
              "</style>\n",
              "<table border=\"1\" class=\"dataframe\">\n",
              "  <thead>\n",
              "    <tr style=\"text-align: right;\">\n",
              "      <th></th>\n",
              "      <th>LAP_TIME</th>\n",
              "    </tr>\n",
              "  </thead>\n",
              "  <tbody>\n",
              "    <tr>\n",
              "      <th>0</th>\n",
              "      <td>0</td>\n",
              "    </tr>\n",
              "    <tr>\n",
              "      <th>1</th>\n",
              "      <td>0</td>\n",
              "    </tr>\n",
              "    <tr>\n",
              "      <th>2</th>\n",
              "      <td>0</td>\n",
              "    </tr>\n",
              "    <tr>\n",
              "      <th>3</th>\n",
              "      <td>0</td>\n",
              "    </tr>\n",
              "    <tr>\n",
              "      <th>4</th>\n",
              "      <td>0</td>\n",
              "    </tr>\n",
              "    <tr>\n",
              "      <th>...</th>\n",
              "      <td>...</td>\n",
              "    </tr>\n",
              "    <tr>\n",
              "      <th>415</th>\n",
              "      <td>0</td>\n",
              "    </tr>\n",
              "    <tr>\n",
              "      <th>416</th>\n",
              "      <td>0</td>\n",
              "    </tr>\n",
              "    <tr>\n",
              "      <th>417</th>\n",
              "      <td>0</td>\n",
              "    </tr>\n",
              "    <tr>\n",
              "      <th>418</th>\n",
              "      <td>0</td>\n",
              "    </tr>\n",
              "    <tr>\n",
              "      <th>419</th>\n",
              "      <td>0</td>\n",
              "    </tr>\n",
              "  </tbody>\n",
              "</table>\n",
              "<p>420 rows × 1 columns</p>\n",
              "</div>"
            ],
            "text/plain": [
              "     LAP_TIME\n",
              "0           0\n",
              "1           0\n",
              "2           0\n",
              "3           0\n",
              "4           0\n",
              "..        ...\n",
              "415         0\n",
              "416         0\n",
              "417         0\n",
              "418         0\n",
              "419         0\n",
              "\n",
              "[420 rows x 1 columns]"
            ]
          },
          "metadata": {},
          "execution_count": 132
        }
      ]
    },
    {
      "cell_type": "code",
      "metadata": {
        "id": "x7uclVN_sKpS"
      },
      "source": [
        "tester = test[col].astype(\"category\")"
      ],
      "execution_count": null,
      "outputs": []
    },
    {
      "cell_type": "code",
      "metadata": {
        "id": "buWpAzBVsEjo"
      },
      "source": [
        "y_true = lgbm_score.predict(tester)"
      ],
      "execution_count": null,
      "outputs": []
    },
    {
      "cell_type": "code",
      "metadata": {
        "colab": {
          "base_uri": "https://localhost:8080/"
        },
        "id": "WhPfyQdgsOU4",
        "outputId": "f78819de-f462-49d1-b976-70e2edb50c89"
      },
      "source": [
        "y_true"
      ],
      "execution_count": null,
      "outputs": [
        {
          "output_type": "execute_result",
          "data": {
            "text/plain": [
              "array([ 97.51843914,  97.51843914,  97.51843914,  97.40068328,\n",
              "        97.40068328,  97.40068328, 100.21062619, 100.21062619,\n",
              "       100.21062619,  95.66464871,  95.66464871,  95.66464871,\n",
              "        99.91709129,  99.91709129,  99.91709129,  96.98812532,\n",
              "        96.98812532,  96.98812532,  97.68216013,  97.68216013,\n",
              "        97.68216013,  97.79294668,  97.79294668,  97.79294668,\n",
              "        98.51773223,  98.51773223,  98.51773223,  98.50563246,\n",
              "        98.50563246,  98.50563246,  97.0105016 ,  97.0105016 ,\n",
              "        97.0105016 ,  96.48256118,  96.48256118,  96.48256118,\n",
              "        97.85144251,  97.85144251,  97.85144251,  96.59206942,\n",
              "        96.59206942,  96.59206942,  96.32632568,  96.32632568,\n",
              "        96.32632568,  97.27321345,  97.27321345,  97.27321345,\n",
              "        97.59362061,  97.59362061,  97.59362061,  99.5251056 ,\n",
              "        99.5251056 ,  99.5251056 ,  95.34033293,  95.34033293,\n",
              "        95.34033293,  97.90846592,  97.90846592,  97.90846592,\n",
              "        95.89133924,  95.89133924,  95.89133924,  96.41461535,\n",
              "        96.41461535,  96.41461535,  95.68742728,  95.68742728,\n",
              "        95.68742728,  99.58957138,  99.58957138,  99.58957138,\n",
              "        97.8698085 ,  97.8698085 ,  97.8698085 ,  95.80945815,\n",
              "        95.80945815,  95.80945815,  98.26207189,  98.26207189,\n",
              "        98.26207189,  98.98685745,  98.98685745,  98.98685745,\n",
              "       100.3862165 , 100.3862165 , 100.3862165 ,  97.45725053,\n",
              "        97.45725053,  97.45725053,  98.15128534,  98.15128534,\n",
              "        98.15128534, 100.67975141, 100.67975141, 100.67975141,\n",
              "        98.37759114,  98.37759114,  98.37759114,  96.13377393,\n",
              "        96.13377393,  96.13377393,  96.36046445,  96.36046445,\n",
              "        96.36046445,  97.47962681,  97.47962681,  97.47962681,\n",
              "        98.32056773,  98.32056773,  98.32056773,  97.06119463,\n",
              "        97.06119463,  97.06119463,  96.79545089,  96.79545089,\n",
              "        96.79545089,  97.74233866,  97.74233866,  97.74233866,\n",
              "        98.06274583,  98.06274583,  98.06274583,  99.99423081,\n",
              "        99.99423081,  99.99423081,  97.98756436,  97.98756436,\n",
              "        97.98756436,  96.88374056,  96.88374056,  96.88374056,\n",
              "        96.1565525 ,  96.1565525 ,  96.1565525 ,  98.97475767,\n",
              "        98.97475767,  98.97475767, 100.05869659, 100.05869659,\n",
              "       100.05869659,  96.95168639,  96.95168639,  96.95168639,\n",
              "        96.95168639,  97.51843914,  97.51843914,  97.51843914,\n",
              "        97.40068328,  97.40068328,  97.40068328,  97.79294668,\n",
              "        97.79294668,  97.79294668,  98.50563246,  98.50563246,\n",
              "        98.50563246,  99.91709129,  99.91709129,  99.91709129,\n",
              "        96.98812532,  96.98812532,  96.98812532,  97.68216013,\n",
              "        97.68216013,  97.68216013, 100.21062619, 100.21062619,\n",
              "       100.21062619,  95.34033293,  95.34033293,  95.34033293,\n",
              "        97.90846592,  97.90846592,  97.90846592,  98.51773223,\n",
              "        98.51773223,  98.51773223,  96.48256118,  96.48256118,\n",
              "        96.48256118,  97.85144251,  97.85144251,  97.85144251,\n",
              "        96.59206942,  96.59206942,  96.59206942,  96.32632568,\n",
              "        96.32632568,  96.32632568,  97.27321345,  97.27321345,\n",
              "        97.27321345,  97.59362061,  97.59362061,  97.59362061,\n",
              "        99.5251056 ,  99.5251056 ,  99.5251056 ,  95.66464871,\n",
              "        95.66464871,  95.66464871,  95.66464871,  95.66464871,\n",
              "        95.89133924,  95.89133924,  96.41461535,  96.41461535,\n",
              "        96.41461535,  96.41461535,  96.41461535,  95.68742728,\n",
              "        95.68742728,  95.68742728,  95.68742728,  95.68742728,\n",
              "        97.0105016 ,  97.0105016 ,  97.0105016 ,  97.0105016 ,\n",
              "        97.0105016 ,  99.58957138,  99.58957138,  99.58957138,\n",
              "        99.58957138,  99.58957138,  97.8698085 ,  97.8698085 ,\n",
              "       100.67975141, 100.67975141, 100.67975141,  95.80945815,\n",
              "        95.80945815,  95.80945815,  98.98685745,  98.98685745,\n",
              "        98.98685745, 100.3862165 , 100.3862165 , 100.3862165 ,\n",
              "        97.45725053,  97.45725053,  97.45725053,  97.98756436,\n",
              "        97.98756436,  97.98756436,  97.98756436,  97.98756436,\n",
              "        98.37759114,  98.37759114,  98.37759114,  98.37759114,\n",
              "        98.37759114,  98.26207189,  98.26207189,  98.26207189,\n",
              "        98.26207189,  96.13377393,  96.13377393,  96.13377393,\n",
              "        96.13377393,  96.13377393,  97.47962681,  97.47962681,\n",
              "        97.47962681,  97.47962681,  97.47962681,  96.95168639,\n",
              "        96.95168639,  96.95168639,  96.95168639,  96.95168639,\n",
              "        98.32056773,  98.32056773,  98.32056773,  97.06119463,\n",
              "        97.06119463,  97.06119463,  96.79545089,  96.79545089,\n",
              "        96.79545089,  97.74233866,  97.74233866,  97.74233866,\n",
              "        98.06274583,  98.06274583,  98.06274583,  99.99423081,\n",
              "        99.99423081,  99.99423081,  98.15128534,  98.15128534,\n",
              "        98.15128534,  96.36046445,  96.36046445,  96.36046445,\n",
              "        96.88374056,  96.88374056,  96.88374056,  96.1565525 ,\n",
              "        96.1565525 ,  96.1565525 ,  98.97475767,  98.97475767,\n",
              "        98.97475767, 100.05869659, 100.05869659, 100.05869659,\n",
              "        75.05088628,  75.05088628,  74.93313042,  74.93313042,\n",
              "        74.93313042,  77.74307333,  77.74307333,  77.74307333,\n",
              "        73.19709585,  73.19709585,  77.44953842,  77.44953842,\n",
              "        77.44953842,  77.12201852,  77.12201852,  72.87278007,\n",
              "        72.87278007,  72.87278007,  75.32539382,  75.32539382,\n",
              "        75.32539382,  76.05017937,  76.05017937,  76.0380796 ,\n",
              "        76.0380796 ,  76.0380796 ,  74.52057245,  74.52057245,\n",
              "        74.01500831,  74.01500831,  75.38388965,  75.38388965,\n",
              "        74.12451656,  74.12451656,  74.12451656,  73.85877282,\n",
              "        73.85877282,  74.80566059,  74.80566059,  75.12606775,\n",
              "        75.12606775,  77.05755274,  77.05755274,  75.21460727,\n",
              "        75.21460727,  75.44091306,  75.44091306,  75.44091306,\n",
              "        73.42378638,  73.42378638,  73.94706249,  73.94706249,\n",
              "        73.94706249,  73.21987442,  73.21987442,  74.54294874,\n",
              "        74.54294874,  74.54294874,  75.21460727,  75.21460727,\n",
              "        77.74307333,  77.74307333,  72.87278007,  72.87278007,\n",
              "        73.19709585,  73.19709585,  77.44953842,  77.44953842,\n",
              "        74.52057245,  74.52057245,  75.05088628,  75.05088628,\n",
              "        74.93313042,  74.93313042,  74.93313042,  75.32539382,\n",
              "        75.32539382,  75.32539382,  76.05017937,  76.05017937,\n",
              "        76.0380796 ,  76.0380796 ,  77.12201852,  77.12201852,\n",
              "        77.12201852,  75.38388965,  75.38388965,  74.12451656,\n",
              "        74.12451656,  74.12451656,  73.85877282,  73.85877282,\n",
              "        74.80566059,  74.80566059,  75.12606775,  75.12606775,\n",
              "        75.12606775,  77.05755274,  77.05755274,  75.44091306,\n",
              "        75.44091306,  73.42378638,  73.42378638,  73.42378638,\n",
              "        73.94706249,  73.94706249,  73.21987442,  73.21987442,\n",
              "        74.54294874,  74.54294874,  74.01500831,  74.01500831])"
            ]
          },
          "metadata": {},
          "execution_count": 144
        }
      ]
    },
    {
      "cell_type": "code",
      "metadata": {
        "id": "C5hoQkJrsYQ7"
      },
      "source": [
        "sub[\"LAP_TIME\"] = y_true.round()"
      ],
      "execution_count": null,
      "outputs": []
    },
    {
      "cell_type": "code",
      "metadata": {
        "id": "0uRCIEGpsk8i"
      },
      "source": [
        "sub[\"LAP_TIME\"] = sub[\"LAP_TIME\"].astype(\"int\")"
      ],
      "execution_count": null,
      "outputs": []
    },
    {
      "cell_type": "code",
      "metadata": {
        "colab": {
          "base_uri": "https://localhost:8080/",
          "height": 419
        },
        "id": "KZNoB_Irssfv",
        "outputId": "4809bff9-be71-4e57-867a-37933d7b86a1"
      },
      "source": [
        "sub"
      ],
      "execution_count": null,
      "outputs": [
        {
          "output_type": "execute_result",
          "data": {
            "text/html": [
              "<div>\n",
              "<style scoped>\n",
              "    .dataframe tbody tr th:only-of-type {\n",
              "        vertical-align: middle;\n",
              "    }\n",
              "\n",
              "    .dataframe tbody tr th {\n",
              "        vertical-align: top;\n",
              "    }\n",
              "\n",
              "    .dataframe thead th {\n",
              "        text-align: right;\n",
              "    }\n",
              "</style>\n",
              "<table border=\"1\" class=\"dataframe\">\n",
              "  <thead>\n",
              "    <tr style=\"text-align: right;\">\n",
              "      <th></th>\n",
              "      <th>LAP_TIME</th>\n",
              "    </tr>\n",
              "  </thead>\n",
              "  <tbody>\n",
              "    <tr>\n",
              "      <th>0</th>\n",
              "      <td>98</td>\n",
              "    </tr>\n",
              "    <tr>\n",
              "      <th>1</th>\n",
              "      <td>98</td>\n",
              "    </tr>\n",
              "    <tr>\n",
              "      <th>2</th>\n",
              "      <td>98</td>\n",
              "    </tr>\n",
              "    <tr>\n",
              "      <th>3</th>\n",
              "      <td>97</td>\n",
              "    </tr>\n",
              "    <tr>\n",
              "      <th>4</th>\n",
              "      <td>97</td>\n",
              "    </tr>\n",
              "    <tr>\n",
              "      <th>...</th>\n",
              "      <td>...</td>\n",
              "    </tr>\n",
              "    <tr>\n",
              "      <th>415</th>\n",
              "      <td>73</td>\n",
              "    </tr>\n",
              "    <tr>\n",
              "      <th>416</th>\n",
              "      <td>75</td>\n",
              "    </tr>\n",
              "    <tr>\n",
              "      <th>417</th>\n",
              "      <td>75</td>\n",
              "    </tr>\n",
              "    <tr>\n",
              "      <th>418</th>\n",
              "      <td>74</td>\n",
              "    </tr>\n",
              "    <tr>\n",
              "      <th>419</th>\n",
              "      <td>74</td>\n",
              "    </tr>\n",
              "  </tbody>\n",
              "</table>\n",
              "<p>420 rows × 1 columns</p>\n",
              "</div>"
            ],
            "text/plain": [
              "     LAP_TIME\n",
              "0          98\n",
              "1          98\n",
              "2          98\n",
              "3          97\n",
              "4          97\n",
              "..        ...\n",
              "415        73\n",
              "416        75\n",
              "417        75\n",
              "418        74\n",
              "419        74\n",
              "\n",
              "[420 rows x 1 columns]"
            ]
          },
          "metadata": {},
          "execution_count": 142
        }
      ]
    },
    {
      "cell_type": "code",
      "metadata": {
        "id": "Cpd80Kw_suQG"
      },
      "source": [
        "sub.to_csv(\"sub_last_3.csv\", index=False)"
      ],
      "execution_count": null,
      "outputs": []
    }
  ]
}